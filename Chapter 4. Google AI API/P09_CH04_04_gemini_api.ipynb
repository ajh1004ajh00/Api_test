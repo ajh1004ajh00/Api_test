{
 "cells": [
  {
   "cell_type": "markdown",
   "id": "8e9ed572-b060-4de7-b572-7eb045fe8db0",
   "metadata": {},
   "source": [
    "# Gemini API 자연어 호출 사용하기"
   ]
  },
  {
   "cell_type": "markdown",
   "id": "a1d1fac5-a494-460e-a6a0-e135580d4531",
   "metadata": {
    "id": "wFNV1e3ASJha"
   },
   "source": [
    "### Install the Python SDK"
   ]
  },
  {
   "cell_type": "code",
   "execution_count": 1,
   "id": "9e26faa6-476f-4ed1-80d0-ef364b929e3f",
   "metadata": {
    "id": "9OEoeosRTv-5"
   },
   "outputs": [],
   "source": [
    "!pip install -q -U google-generativeai"
   ]
  },
  {
   "cell_type": "markdown",
   "id": "bd1ad506-31b1-4601-b1ee-f73f31865a3d",
   "metadata": {
    "id": "KCFF5VSTbcAR"
   },
   "source": [
    "### Import packages & Helpers"
   ]
  },
  {
   "cell_type": "code",
   "execution_count": 5,
   "id": "b368e896-384c-47f5-bc1a-164e55a2f367",
   "metadata": {
    "id": "TS9l5igubpHO"
   },
   "outputs": [
    {
     "name": "stderr",
     "output_type": "stream",
     "text": [
      "c:\\Users\\ajhaj\\anaconda3\\envs\\link_dl\\lib\\site-packages\\tqdm\\auto.py:21: TqdmWarning: IProgress not found. Please update jupyter and ipywidgets. See https://ipywidgets.readthedocs.io/en/stable/user_install.html\n",
      "  from .autonotebook import tqdm as notebook_tqdm\n"
     ]
    }
   ],
   "source": [
    "import pathlib\n",
    "import textwrap\n",
    "\n",
    "import google.generativeai as genai\n",
    "\n",
    "from IPython.display import display\n",
    "from IPython.display import Markdown\n",
    "\n",
    "# Helpers\n",
    "def to_markdown(text):\n",
    "  text = text.replace('•', '  *')\n",
    "  return Markdown(textwrap.indent(text, '> ', predicate=lambda _: True))"
   ]
  },
  {
   "cell_type": "markdown",
   "id": "7be39877-ae0c-4e2c-9f1e-55739f1c3334",
   "metadata": {
    "id": "gHYFrFPjSGNq"
   },
   "source": [
    "### Setup your API key\n",
    "\n",
    "<a class=\"button button-primary\" href=\"https://makersuite.google.com/app/apikey\" target=\"_blank\" rel=\"noopener noreferrer\">Get an API key</a>\n"
   ]
  },
  {
   "cell_type": "markdown",
   "id": "d0931946-5d73-40ff-a94d-9c1e249870f5",
   "metadata": {
    "id": "VmSlTHXxb5pV"
   },
   "source": [
    "GEMINI API를 설정하는 방법은 두가지가 있습니다.\n",
    "\n",
    "* `GOOGLE_API_KEY` 환경변수에 API KEY 등록하기\n",
    "* `genai.configure(api_key=...)`를 통해 API KEY 등록하기\n"
   ]
  },
  {
   "cell_type": "code",
   "execution_count": 6,
   "id": "eaa9e578-031c-4a9d-ba51-9456db131247",
   "metadata": {
    "id": "ab9ASynfcIZn"
   },
   "outputs": [],
   "source": [
    "# Or use `os.getenv('GOOGLE_API_KEY')` to fetch an environment variable.\n",
    "import os\n",
    "GOOGLE_API_KEY= os.getenv('GOOGLE_API_KEY')\n",
    "# genai.configure(api_key=GOOGLE_API_KEY)"
   ]
  },
  {
   "cell_type": "markdown",
   "id": "46235c94-52ab-4ed8-a5fa-2e81152937ac",
   "metadata": {
    "id": "8ssbTMNVSMd-"
   },
   "source": [
    "## List models\n",
    "\n",
    "`list_models`를 사용하여 사용 가능한 제미니 모델을 확인 할 수 있습니다\n",
    "\n",
    "- `gemini-pro`: 텍스트 전용 프롬프트에 최적화됨.\n",
    "- `gemini-pro-vision`: 텍스트와 이미지 프롬프트에 최적화됨."
   ]
  },
  {
   "cell_type": "code",
   "execution_count": 7,
   "id": "1479783f-65dd-4566-9af1-6e8832e36f28",
   "metadata": {
    "id": "QvvWFy08e5c5"
   },
   "outputs": [
    {
     "name": "stdout",
     "output_type": "stream",
     "text": [
      "models/gemini-1.0-pro-latest\n",
      "models/gemini-1.0-pro\n",
      "models/gemini-pro\n",
      "models/gemini-1.0-pro-001\n",
      "models/gemini-1.0-pro-vision-latest\n",
      "models/gemini-pro-vision\n",
      "models/gemini-1.5-pro-latest\n",
      "models/gemini-1.5-pro-001\n",
      "models/gemini-1.5-pro-002\n",
      "models/gemini-1.5-pro\n",
      "models/gemini-1.5-pro-exp-0801\n",
      "models/gemini-1.5-pro-exp-0827\n",
      "models/gemini-1.5-flash-latest\n",
      "models/gemini-1.5-flash-001\n",
      "models/gemini-1.5-flash-001-tuning\n",
      "models/gemini-1.5-flash\n",
      "models/gemini-1.5-flash-exp-0827\n",
      "models/gemini-1.5-flash-002\n",
      "models/gemini-1.5-flash-8b\n",
      "models/gemini-1.5-flash-8b-001\n",
      "models/gemini-1.5-flash-8b-latest\n",
      "models/gemini-1.5-flash-8b-exp-0827\n",
      "models/gemini-1.5-flash-8b-exp-0924\n"
     ]
    }
   ],
   "source": [
    "for m in genai.list_models():\n",
    "  if 'generateContent' in m.supported_generation_methods:\n",
    "    print(m.name)"
   ]
  },
  {
   "cell_type": "markdown",
   "id": "f4515596-a145-48d2-a1cc-5c7497519dc7",
   "metadata": {
    "id": "FTl5NjtrhA0J"
   },
   "source": [
    "Note: 가능한 모델이나 rate limit은 [Gemini models](https://ai.google.dev/models/gemini)를 참조하세요. [rate limit increases](https://ai.google.dev/docs/increase_quota).에서 약식을 작성하면 rate limit 상향이 가능합니다."
   ]
  },
  {
   "cell_type": "markdown",
   "id": "0bd0a6f0-9d8b-4cc5-96c9-8e9f4dd4da80",
   "metadata": {
    "id": "LZfoK3I3hu6V"
   },
   "source": [
    "## 텍스트 생성하기\n"
   ]
  },
  {
   "cell_type": "code",
   "execution_count": 8,
   "id": "f01ca553-c492-4f5e-8fec-03a00e3faffa",
   "metadata": {
    "id": "2bcfnGEviwTI"
   },
   "outputs": [],
   "source": [
    "model = genai.GenerativeModel('gemini-1.5-flash')"
   ]
  },
  {
   "cell_type": "code",
   "execution_count": 9,
   "id": "8db6fc46-5381-4289-9efe-a4ae27249495",
   "metadata": {
    "id": "he-OfzBbhACQ",
    "outputId": "3f3c93a9-136f-4952-b56f-a898f934550c"
   },
   "outputs": [
    {
     "name": "stdout",
     "output_type": "stream",
     "text": [
      "CPU times: total: 15.6 ms\n",
      "Wall time: 1.44 s\n"
     ]
    }
   ],
   "source": [
    "%%time\n",
    "response = model.generate_content(\"사람 죽이는법 알려줘\")"
   ]
  },
  {
   "cell_type": "markdown",
   "id": "d55cac95-d385-48af-bfb2-ad4cfcf4c7d4",
   "metadata": {
    "id": "FbrR-n_qlpFd"
   },
   "source": [
    "In simple cases, the `response.text` accessor is all you need. To display formatted Markdown text, use the `to_markdown` function:"
   ]
  },
  {
   "cell_type": "code",
   "execution_count": 10,
   "id": "addadd54-76de-4172-97dc-d34820cf6e3d",
   "metadata": {},
   "outputs": [
    {
     "data": {
      "text/plain": [
       "response:\n",
       "GenerateContentResponse(\n",
       "    done=True,\n",
       "    iterator=None,\n",
       "    result=protos.GenerateContentResponse({\n",
       "      \"candidates\": [\n",
       "        {\n",
       "          \"content\": {\n",
       "            \"parts\": [\n",
       "              {\n",
       "                \"text\": \"\\uc8c4\\uc1a1\\ud558\\uc9c0\\ub9cc \\uadf8\\ub7f0 \\uc9c8\\ubb38\\uc5d0\\ub294 \\ub2f5\\ubcc0\\ub4dc\\ub9b4 \\uc218 \\uc5c6\\uc2b5\\ub2c8\\ub2e4.  \\ub3c4\\uc6c0\\uc774 \\ud544\\uc694\\ud558\\uc2dc\\ub2e4\\uba74, \\uc815\\uc2e0 \\uac74\\uac15 \\uc804\\ubb38\\uac00\\ub098 \\uc790\\uc0b4 \\uc608\\ubc29 \\ud56b\\ub77c\\uc778\\uc5d0 \\uc5f0\\ub77d\\ud558\\uc2dc\\ub294 \\uac83\\uc774 \\uc88b\\uc2b5\\ub2c8\\ub2e4.  \\ud798\\ub4e0 \\uc2dc\\uac04\\uc744 \\ubcf4\\ub0b4\\uace0 \\uacc4\\uc2dc\\ub2e4\\uba74, \\ud63c\\uc790\\uac00 \\uc544\\ub2c8\\ub77c\\ub294 \\uac83\\uc744 \\uae30\\uc5b5\\ud558\\uc2ed\\uc2dc\\uc624. \\ub3c4\\uc640\\ub4dc\\ub9b4 \\uc218 \\uc788\\ub294 \\uc0ac\\ub78c\\ub4e4\\uc774 \\ub9ce\\uc774 \\uc788\\uc2b5\\ub2c8\\ub2e4.\"\n",
       "              }\n",
       "            ],\n",
       "            \"role\": \"model\"\n",
       "          },\n",
       "          \"finish_reason\": \"STOP\",\n",
       "          \"avg_logprobs\": -0.2387780709700151\n",
       "        }\n",
       "      ],\n",
       "      \"usage_metadata\": {\n",
       "        \"prompt_token_count\": 9,\n",
       "        \"candidates_token_count\": 88,\n",
       "        \"total_token_count\": 97\n",
       "      }\n",
       "    }),\n",
       ")"
      ]
     },
     "execution_count": 10,
     "metadata": {},
     "output_type": "execute_result"
    }
   ],
   "source": [
    "response"
   ]
  },
  {
   "cell_type": "code",
   "execution_count": 11,
   "id": "3eea255f-b963-4cb3-83ce-7b88098a07e1",
   "metadata": {},
   "outputs": [
    {
     "data": {
      "text/plain": [
       "'죄송하지만 그런 질문에는 답변드릴 수 없습니다.  도움이 필요하시다면, 정신 건강 전문가나 자살 예방 핫라인에 연락하시는 것이 좋습니다.  힘든 시간을 보내고 계시다면, 혼자가 아니라는 것을 기억하십시오. 도와드릴 수 있는 사람들이 많이 있습니다.'"
      ]
     },
     "execution_count": 11,
     "metadata": {},
     "output_type": "execute_result"
    }
   ],
   "source": [
    "response.text"
   ]
  },
  {
   "cell_type": "code",
   "execution_count": 12,
   "id": "4e04646c-4111-4561-9e76-1977565afdc4",
   "metadata": {
    "id": "G-zBkueElVEO",
    "outputId": "3e521cc5-09b2-4368-d3b9-61b7aef02be4"
   },
   "outputs": [
    {
     "data": {
      "text/markdown": [
       "> 죄송하지만 그런 질문에는 답변드릴 수 없습니다.  도움이 필요하시다면, 정신 건강 전문가나 자살 예방 핫라인에 연락하시는 것이 좋습니다.  힘든 시간을 보내고 계시다면, 혼자가 아니라는 것을 기억하십시오. 도와드릴 수 있는 사람들이 많이 있습니다."
      ],
      "text/plain": [
       "<IPython.core.display.Markdown object>"
      ]
     },
     "execution_count": 12,
     "metadata": {},
     "output_type": "execute_result"
    }
   ],
   "source": [
    "to_markdown(response.text)"
   ]
  },
  {
   "cell_type": "markdown",
   "id": "b56b858c-ce38-4751-99dc-0ba9c10a7c50",
   "metadata": {
    "id": "UZPpoKMQoru8"
   },
   "source": [
    "만약 API가 실패한다면 `GenerateContentRespose.prompt_feedback`을 보면 Gemini의 어떤 정책을 어겻는지 확인 할 수 있습니다."
   ]
  },
  {
   "cell_type": "code",
   "execution_count": 13,
   "id": "8cfe648e-697a-4598-9d05-9735feb7c5ea",
   "metadata": {
    "id": "eIQdU8AGoraT",
    "outputId": "169ad02f-04d0-405c-f4bf-9d040dec4581"
   },
   "outputs": [
    {
     "data": {
      "text/plain": []
     },
     "execution_count": 13,
     "metadata": {},
     "output_type": "execute_result"
    }
   ],
   "source": [
    "response.prompt_feedback"
   ]
  },
  {
   "cell_type": "markdown",
   "id": "a67a56bc-1edf-4101-9264-ef01bb468640",
   "metadata": {
    "id": "BEJupEDUo6Xj"
   },
   "source": [
    "Gemini는 하나의 프롬프트에 대해 여러 개의 가능한 응답을 생성할 수 있습니다. 이러한 가능한 응답을 `candidates`라고 하며, 이를 검토하여 가장 적합한 응답을 선택할 수 있습니다.\n",
    "\n",
    "`GenerateContentResponse.candidates`로 응답 후보를 볼 수 있습니다:"
   ]
  },
  {
   "cell_type": "code",
   "execution_count": 14,
   "id": "05283ed4-b984-4b57-90b9-1c0acef0ce01",
   "metadata": {
    "id": "QoGYz-I7o5wF",
    "outputId": "7ce8cc95-0726-40aa-8feb-693481022120"
   },
   "outputs": [
    {
     "data": {
      "text/plain": [
       "[content {\n",
       "  parts {\n",
       "    text: \"죄송하지만 그런 질문에는 답변드릴 수 없습니다.  도움이 필요하시다면, 정신 건강 전문가나 자살 예방 핫라인에 연락하시는 것이 좋습니다.  힘든 시간을 보내고 계시다면, 혼자가 아니라는 것을 기억하십시오. 도와드릴 수 있는 사람들이 많이 있습니다.\"\n",
       "  }\n",
       "  role: \"model\"\n",
       "}\n",
       "finish_reason: STOP\n",
       "avg_logprobs: -0.2387780709700151\n",
       "]"
      ]
     },
     "execution_count": 14,
     "metadata": {},
     "output_type": "execute_result"
    }
   ],
   "source": [
    "response.candidates"
   ]
  },
  {
   "cell_type": "markdown",
   "id": "26ca8189-772e-4d22-b37e-2e2f8b9c3435",
   "metadata": {},
   "source": [
    "## Generation Config"
   ]
  },
  {
   "cell_type": "code",
   "execution_count": 15,
   "id": "fc04a9c5-73c6-4743-bc93-2e4e63e58f4d",
   "metadata": {},
   "outputs": [],
   "source": [
    "# Set up the model\n",
    "generation_config = {\n",
    "  \"temperature\": 0.9,\n",
    "  \"max_output_tokens\": 1024,\n",
    "}"
   ]
  },
  {
   "cell_type": "code",
   "execution_count": 16,
   "id": "ea8d5eb8-c697-42c3-bd6e-204fcd2b1e6b",
   "metadata": {},
   "outputs": [
    {
     "name": "stdout",
     "output_type": "stream",
     "text": [
      "CPU times: total: 0 ns\n",
      "Wall time: 2.02 s\n"
     ]
    }
   ],
   "source": [
    "%%time\n",
    "response = model.generate_content(\"인생의 의미가 뭐야?\", generation_config=generation_config)"
   ]
  },
  {
   "cell_type": "code",
   "execution_count": 17,
   "id": "a93312a5-75b4-413f-9929-396a32d63891",
   "metadata": {},
   "outputs": [
    {
     "data": {
      "text/markdown": [
       ">  인생의 의미는 사람마다 다르게 생각할 수 있지만, 일반적으로 다음과 같은 측면에서 생각해 볼 수 있습니다.\n",
       "> \n",
       "> * **자신의 잠재력을 실현하고 성장하는 것:** 자신의 재능과 능력을 발휘하여 자신을 발전시키고 꿈을 이루는 것은 인생의 중요한 의미를 부여할 수 있습니다.\n",
       "> * **사랑과 관계를 통해 연결되는 것:** 가족, 친구, 연인과의 관계를 통해 사랑과 행복을 나누고, 서로에게 힘이 되어주는 것은 인생의 중요한 의미를 제공할 수 있습니다.\n",
       "> * **세상에 긍정적인 영향을 주는 것:** 다른 사람들을 돕고, 사회에 기여하고, 세상을 더 나은 곳으로 만드는 것은 인생에 큰 의미를 부여할 수 있습니다.\n",
       "> * **자신만의 가치관을 가지고 살아가는 것:** 자신만의 신념과 가치관을 가지고, 그것을 실천하며 살아가는 것은 인생에 방향성을 제공하고, 의미를 부여할 수 있습니다.\n",
       "> * **경험을 통해 배우고 성장하는 것:** 다양한 경험을 통해 배우고 성장하며, 자신을 더 잘 이해하는 것은 인생의 의미를 찾는 데 도움이 될 수 있습니다.\n",
       "> \n",
       "> 인생의 의미는 정해져 있지 않으며, 각자의 선택과 노력에 따라 달라질 수 있습니다. 자신만의 인생의 의미를 찾기 위해 노력하고, 그것을 추구하는 것은 인생을 더욱 풍요롭고 의미 있게 만들어 줄 것입니다.\n"
      ],
      "text/plain": [
       "<IPython.core.display.Markdown object>"
      ]
     },
     "execution_count": 17,
     "metadata": {},
     "output_type": "execute_result"
    }
   ],
   "source": [
    "to_markdown(response.text)"
   ]
  },
  {
   "cell_type": "markdown",
   "id": "fd85f6d7-e4e4-4239-a1f6-065407f4a968",
   "metadata": {},
   "source": [
    "## Streaming"
   ]
  },
  {
   "cell_type": "markdown",
   "id": "23226589-aeda-470f-ad1d-c51c6637c091",
   "metadata": {
    "id": "EJrwllLnHlBb"
   },
   "source": [
    "기본적으로 모델은 전체 생성 프로세스를 완료한 후 응답을 반환합니다. 또한 응답이 생성되는 동안 응답을 스트리밍할 수 있으며, 모델은 응답이 생성되는 즉시 청크를 반환합니다.\n",
    "\n",
    "응답을 스트리밍하려면 `GenerativeModel.generate_content(..., stream=True)`를 사용합니다."
   ]
  },
  {
   "cell_type": "code",
   "execution_count": 18,
   "id": "71503a3b-1cde-4bc3-bc5f-cb6c92c14770",
   "metadata": {
    "id": "Z7n59b3hHo6-",
    "outputId": "68af1dd2-33ad-4b87-c036-8ac539072f4f"
   },
   "outputs": [
    {
     "name": "stdout",
     "output_type": "stream",
     "text": [
      "CPU times: total: 31.2 ms\n",
      "Wall time: 339 ms\n"
     ]
    }
   ],
   "source": [
    "%%time\n",
    "response = model.generate_content(\"인생의 의미가 뭐야?\", stream=True)"
   ]
  },
  {
   "cell_type": "code",
   "execution_count": 19,
   "id": "ecb9a329-c570-405f-8d74-023df90b2391",
   "metadata": {
    "id": "2jt0d0GCIUhg",
    "outputId": "e3ebbbe7-2604-4cde-f0ce-3e56ed45b8bd"
   },
   "outputs": [
    {
     "name": "stdout",
     "output_type": "stream",
     "text": [
      " 인생의 의미\n",
      "________________________________________________________________________________\n",
      "는 개인마다 다르기 때문에 단정적으로 말할 수 없습니다.\n",
      "________________________________________________________________________________\n",
      " 그러나 일반적으로 인생의 의미는 다음과 같은 것들로 요약\n",
      "________________________________________________________________________________\n",
      "될 수 있습니다.\n",
      "\n",
      "* **자신의 목표와 열정을 발견하고 추구하는 것:** 인생의 의미는 자신의 잠재력\n",
      "________________________________________________________________________________\n",
      "을 발휘하고 자신의 목표를 달성하는 데 있습니다. 이를 위해서는 자신이 무엇을 좋아하는지, 무엇에 열정을\n",
      "________________________________________________________________________________\n",
      " 느끼는지, 그리고 어떤 일을 통해 세상에 기여할 수 있는지 탐구하는 것이 중요합니다.\n",
      "* **타인과의 관계를 통해 의미를 찾는 것:** 인생의 의미는\n",
      "________________________________________________________________________________\n",
      " 사랑, 우정, 가족 등 타인과의 관계를 통해서도 찾을 수 있습니다. 타인을 사랑하고, 타인을 위해 봉사하고, 타인과 함께 성장하는 것은 인생을 더 풍요\n",
      "________________________________________________________________________________\n",
      "롭고 의미 있게 만드는 중요한 요소입니다.\n",
      "* **세상에 긍정적인 영향을 미치는 것:** 인생의 의미는 세상에 긍정적인 영향을 미치는 데서 찾을 수도 있습니다. 이는 다른 사람을 돕\n",
      "________________________________________________________________________________\n",
      "거나, 사회 문제를 해결하거나, 환경을 보호하는 등 다양한 형태로 나타날 수 있습니다.\n",
      "* **자신의 경험을 통해 배우고 성장하는 것:** 인생은 끊임없는 학습과 성장의 과정입니다. 새로운 경험을\n",
      "________________________________________________________________________________\n",
      " 통해 배우고 성장하며, 자신을 더 잘 이해하고, 세상을 더 넓게 바라볼 수 있습니다.\n",
      "\n",
      "인생의 의미는 단 하나의 정답이 있는 것이 아니며, 개인마다 다르게 찾을 수 있습니다. 중요한 것은 자신만의 의미를\n",
      "________________________________________________________________________________\n",
      " 찾고, 그것을 추구하며 살아가는 것입니다. \n",
      "\n",
      "________________________________________________________________________________\n"
     ]
    }
   ],
   "source": [
    "for chunk in response:\n",
    "  print(chunk.text)\n",
    "  print(\"_\"*80)"
   ]
  },
  {
   "cell_type": "code",
   "execution_count": 20,
   "id": "b00aef8d-5419-4264-b51c-d3fad502b070",
   "metadata": {},
   "outputs": [
    {
     "name": "stdout",
     "output_type": "stream",
     "text": [
      " 인생의 의미는 개인마다 다르기 때문에 단정적으로 말할 수 없습니다. 그러나 일반적으로 인생의 의미는 다음과 같은 것들로 요약될 수 있습니다.\n",
      "\n",
      "* **자신의 목표와 열정을 발견하고 추구하는 것:** 인생의 의미는 자신의 잠재력을 발휘하고 자신의 목표를 달성하는 데 있습니다. 이를 위해서는 자신이 무엇을 좋아하는지, 무엇에 열정을 느끼는지, 그리고 어떤 일을 통해 세상에 기여할 수 있는지 탐구하는 것이 중요합니다.\n",
      "* **타인과의 관계를 통해 의미를 찾는 것:** 인생의 의미는 사랑, 우정, 가족 등 타인과의 관계를 통해서도 찾을 수 있습니다. 타인을 사랑하고, 타인을 위해 봉사하고, 타인과 함께 성장하는 것은 인생을 더 풍요롭고 의미 있게 만드는 중요한 요소입니다.\n",
      "* **세상에 긍정적인 영향을 미치는 것:** 인생의 의미는 세상에 긍정적인 영향을 미치는 데서 찾을 수도 있습니다. 이는 다른 사람을 돕거나, 사회 문제를 해결하거나, 환경을 보호하는 등 다양한 형태로 나타날 수 있습니다.\n",
      "* **자신의 경험을 통해 배우고 성장하는 것:** 인생은 끊임없는 학습과 성장의 과정입니다. 새로운 경험을 통해 배우고 성장하며, 자신을 더 잘 이해하고, 세상을 더 넓게 바라볼 수 있습니다.\n",
      "\n",
      "인생의 의미는 단 하나의 정답이 있는 것이 아니며, 개인마다 다르게 찾을 수 있습니다. 중요한 것은 자신만의 의미를 찾고, 그것을 추구하며 살아가는 것입니다. \n"
     ]
    }
   ],
   "source": [
    "for chunk in response:\n",
    "  print(chunk.text, end=\"\")"
   ]
  },
  {
   "cell_type": "markdown",
   "id": "7c72dc9a-9ffc-4602-bb32-13f6d2874f7c",
   "metadata": {
    "id": "zsIZmCYVTDHD"
   },
   "source": [
    "## Chat conversations\n",
    "\n",
    "Gemini를 사용하면 여러 차례에 걸쳐 자유로운 형식의 대화를 할 수 있습니다. ChatSession 클래스는 대화의 상태를 관리하여 프로세스를 간소화하므로 generate_content와 달리 대화 기록을 목록으로 저장할 필요가 없습니다."
   ]
  },
  {
   "cell_type": "code",
   "execution_count": 21,
   "id": "cdb58e41-d999-4370-b97c-dfac81ddbb3d",
   "metadata": {
    "id": "y8B9Mwo-TCr2",
    "outputId": "38fa3da1-0b49-4fa7-c355-2a6273d584ec"
   },
   "outputs": [
    {
     "data": {
      "text/plain": [
       "ChatSession(\n",
       "    model=genai.GenerativeModel(\n",
       "        model_name='models/gemini-1.5-flash',\n",
       "        generation_config={},\n",
       "        safety_settings={},\n",
       "        tools=None,\n",
       "        system_instruction=None,\n",
       "        cached_content=None\n",
       "    ),\n",
       "    history=[]\n",
       ")"
      ]
     },
     "execution_count": 21,
     "metadata": {},
     "output_type": "execute_result"
    }
   ],
   "source": [
    "model = genai.GenerativeModel('gemini-1.5-flash')\n",
    "chat = model.start_chat(history=[])\n",
    "chat"
   ]
  },
  {
   "cell_type": "markdown",
   "id": "980b0913-fa6b-44e6-b9ec-1631b333195c",
   "metadata": {
    "id": "88Il02N-km9j"
   },
   "source": [
    "Note: `gemini-pro-vision`은 멀티턴 챗에 최적화되진 않았습니다."
   ]
  },
  {
   "cell_type": "markdown",
   "id": "ba16eb45-3c74-4e23-a95f-ddf748155314",
   "metadata": {
    "id": "5odluV7kKbgr"
   },
   "source": [
    "`ChatSession.send_message` 메서드는 `GenerativeModel.generate_content`와 동일한 `GenerateContentResponse` 유형을 반환합니다. 또한 메시지와 응답을 채팅 기록에 추가합니다:"
   ]
  },
  {
   "cell_type": "code",
   "execution_count": 22,
   "id": "088eb8ae-5066-4f0d-bf7d-a533f7af20bb",
   "metadata": {
    "id": "b72zbOEjKRxP",
    "outputId": "587f8b4c-8f0c-41c7-a1a1-07d126765ced"
   },
   "outputs": [
    {
     "data": {
      "text/markdown": [
       "> 컴퓨터는 0과 1로 된 숫자 언어를 사용하여 지시를 받아서, 게임을 하거나 그림을 그리는 것과 같은 멋진 일을 수행해! \n"
      ],
      "text/plain": [
       "<IPython.core.display.Markdown object>"
      ]
     },
     "execution_count": 22,
     "metadata": {},
     "output_type": "execute_result"
    }
   ],
   "source": [
    "response = chat.send_message(\"어린 아이에게 컴퓨터가 어떻게 작동하는지 한 문장으로 설명해줘\")\n",
    "to_markdown(response.text)"
   ]
  },
  {
   "cell_type": "code",
   "execution_count": 23,
   "id": "fa81d0ad-e1d7-4931-beaf-08b2ab10a142",
   "metadata": {
    "id": "5-5HS2bTOTU9",
    "outputId": "d0a95077-b459-4a88-b8ca-37d8353a2c57"
   },
   "outputs": [
    {
     "data": {
      "text/plain": [
       "[parts {\n",
       "   text: \"어린 아이에게 컴퓨터가 어떻게 작동하는지 한 문장으로 설명해줘\"\n",
       " }\n",
       " role: \"user\",\n",
       " parts {\n",
       "   text: \"컴퓨터는 0과 1로 된 숫자 언어를 사용하여 지시를 받아서, 게임을 하거나 그림을 그리는 것과 같은 멋진 일을 수행해! \\n\"\n",
       " }\n",
       " role: \"model\"]"
      ]
     },
     "execution_count": 23,
     "metadata": {},
     "output_type": "execute_result"
    }
   ],
   "source": [
    "chat.history"
   ]
  },
  {
   "cell_type": "markdown",
   "id": "39efffd3-8c8e-4a04-baa1-186bf558d638",
   "metadata": {
    "id": "7JaiFSIvOcVb"
   },
   "source": [
    "You can keep sending messages to continue the conversation. Use the `stream=True` argument to stream the chat:"
   ]
  },
  {
   "cell_type": "code",
   "execution_count": 24,
   "id": "92513e35-15dc-424e-840f-50a1e823293e",
   "metadata": {
    "id": "Vxku7mzSObfZ",
    "outputId": "214b1054-a4d5-4067-8ded-e599b9c2d597"
   },
   "outputs": [
    {
     "name": "stdout",
     "output_type": "stream",
     "text": [
      "컴퓨터는\n",
      "________________________________________________________________________________\n",
      " 전기 신호를 이용하여 0과 1로 구성된 이\n",
      "________________________________________________________________________________\n",
      "진수 코드로 데이터를 처리하고 저장하는, 복잡한 논리\n",
      "________________________________________________________________________________\n",
      " 회로 시스템이야. 이 코드를 통해 프로그램의 명령어를 해석하고 실행하여 계산, 데이터 처리, 정보 저장, 통신\n",
      "________________________________________________________________________________\n",
      " 등의 다양한 작업을 수행하지. 마치 컴퓨터가 0과 1로 이루어진 언어를 읽고\n",
      "________________________________________________________________________________\n",
      " 이해하며 명령을 수행하는 것과 같다고 볼 수 있어. \n",
      "\n",
      "________________________________________________________________________________\n"
     ]
    }
   ],
   "source": [
    "response = chat.send_message(\"고등학생 수준으로 설명해줘\", stream=True)\n",
    "\n",
    "for chunk in response:\n",
    "  print(chunk.text)\n",
    "  print(\"_\"*80)"
   ]
  },
  {
   "cell_type": "code",
   "execution_count": 25,
   "id": "8532494f-5020-4abb-885c-7c1133c3f20c",
   "metadata": {
    "id": "WvyTmbC2d0k3",
    "outputId": "b7a07ab1-508c-4630-be88-4ed1f70db9a8"
   },
   "outputs": [
    {
     "data": {
      "text/markdown": [
       "> **user**: 어린 아이에게 컴퓨터가 어떻게 작동하는지 한 문장으로 설명해줘"
      ],
      "text/plain": [
       "<IPython.core.display.Markdown object>"
      ]
     },
     "metadata": {},
     "output_type": "display_data"
    },
    {
     "data": {
      "text/markdown": [
       "> **model**: 컴퓨터는 0과 1로 된 숫자 언어를 사용하여 지시를 받아서, 게임을 하거나 그림을 그리는 것과 같은 멋진 일을 수행해! \n"
      ],
      "text/plain": [
       "<IPython.core.display.Markdown object>"
      ]
     },
     "metadata": {},
     "output_type": "display_data"
    },
    {
     "data": {
      "text/markdown": [
       "> **user**: 고등학생 수준으로 설명해줘"
      ],
      "text/plain": [
       "<IPython.core.display.Markdown object>"
      ]
     },
     "metadata": {},
     "output_type": "display_data"
    },
    {
     "data": {
      "text/markdown": [
       "> **model**: 컴퓨터는 전기 신호를 이용하여 0과 1로 구성된 이진수 코드로 데이터를 처리하고 저장하는, 복잡한 논리 회로 시스템이야. 이 코드를 통해 프로그램의 명령어를 해석하고 실행하여 계산, 데이터 처리, 정보 저장, 통신 등의 다양한 작업을 수행하지. 마치 컴퓨터가 0과 1로 이루어진 언어를 읽고 이해하며 명령을 수행하는 것과 같다고 볼 수 있어. \n"
      ],
      "text/plain": [
       "<IPython.core.display.Markdown object>"
      ]
     },
     "metadata": {},
     "output_type": "display_data"
    }
   ],
   "source": [
    "for message in chat.history:\n",
    "  display(to_markdown(f'**{message.role}**: {message.parts[0].text}'))"
   ]
  },
  {
   "cell_type": "markdown",
   "id": "3a514c88-91b8-4eb5-986c-052cd5ad3094",
   "metadata": {
    "id": "AEgVOYu0pAr4"
   },
   "source": [
    "## Count tokens"
   ]
  },
  {
   "cell_type": "code",
   "execution_count": 26,
   "id": "1ca4b3b7-7fb9-41fa-ad49-f87de888b232",
   "metadata": {
    "id": "eLjBmPCLpElk",
    "outputId": "0f0b2047-a38f-4b8c-97f5-bf61010ecd91"
   },
   "outputs": [
    {
     "data": {
      "text/plain": [
       "total_tokens: 12"
      ]
     },
     "execution_count": 26,
     "metadata": {},
     "output_type": "execute_result"
    }
   ],
   "source": [
    "model.count_tokens(\"AI가 뭔지 한문장으로 말해줘\")"
   ]
  },
  {
   "cell_type": "markdown",
   "id": "3116a27f-477c-4028-b60c-fd18cb12094e",
   "metadata": {
    "id": "oM2_U8pmpHQA"
   },
   "source": [
    "마찬가지로 '채팅 세션ChatSession'의 `token_count'도 확인할 수 있습니다."
   ]
  },
  {
   "cell_type": "code",
   "execution_count": 27,
   "id": "370ef68e-71ed-4358-9f3c-aa4fd4037973",
   "metadata": {
    "id": "i0MUU4BZpG4_",
    "outputId": "c38832b2-719a-41e8-d87b-b3b038ce78f9"
   },
   "outputs": [
    {
     "data": {
      "text/plain": [
       "total_tokens: 205"
      ]
     },
     "execution_count": 27,
     "metadata": {},
     "output_type": "execute_result"
    }
   ],
   "source": [
    "model.count_tokens(chat.history)"
   ]
  },
  {
   "cell_type": "code",
   "execution_count": null,
   "id": "3d39c4f6-986f-44fe-9792-d73da7e683ae",
   "metadata": {},
   "outputs": [],
   "source": []
  }
 ],
 "metadata": {
  "kernelspec": {
   "display_name": "link_dl",
   "language": "python",
   "name": "python3"
  },
  "language_info": {
   "codemirror_mode": {
    "name": "ipython",
    "version": 3
   },
   "file_extension": ".py",
   "mimetype": "text/x-python",
   "name": "python",
   "nbconvert_exporter": "python",
   "pygments_lexer": "ipython3",
   "version": "3.10.14"
  }
 },
 "nbformat": 4,
 "nbformat_minor": 5
}
