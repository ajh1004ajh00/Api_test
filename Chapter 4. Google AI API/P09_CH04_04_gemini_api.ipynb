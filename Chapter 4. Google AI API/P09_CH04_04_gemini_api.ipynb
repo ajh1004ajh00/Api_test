{
 "cells": [
  {
   "cell_type": "markdown",
   "id": "8e9ed572-b060-4de7-b572-7eb045fe8db0",
   "metadata": {},
   "source": [
    "# Gemini API 자연어 호출 사용하기"
   ]
  },
  {
   "cell_type": "markdown",
   "id": "a1d1fac5-a494-460e-a6a0-e135580d4531",
   "metadata": {
    "id": "wFNV1e3ASJha"
   },
   "source": [
    "### Install the Python SDK"
   ]
  },
  {
   "cell_type": "code",
   "execution_count": 1,
   "id": "9e26faa6-476f-4ed1-80d0-ef364b929e3f",
   "metadata": {
    "id": "9OEoeosRTv-5"
   },
   "outputs": [],
   "source": [
    "!pip install -q -U google-generativeai"
   ]
  },
  {
   "cell_type": "markdown",
   "id": "bd1ad506-31b1-4601-b1ee-f73f31865a3d",
   "metadata": {
    "id": "KCFF5VSTbcAR"
   },
   "source": [
    "### Import packages & Helpers"
   ]
  },
  {
   "cell_type": "code",
   "execution_count": 2,
   "id": "b368e896-384c-47f5-bc1a-164e55a2f367",
   "metadata": {
    "id": "TS9l5igubpHO"
   },
   "outputs": [],
   "source": [
    "import pathlib\n",
    "import textwrap\n",
    "\n",
    "import google.generativeai as genai\n",
    "\n",
    "from IPython.display import display\n",
    "from IPython.display import Markdown\n",
    "\n",
    "# Helpers\n",
    "def to_markdown(text):\n",
    "  text = text.replace('•', '  *')\n",
    "  return Markdown(textwrap.indent(text, '> ', predicate=lambda _: True))"
   ]
  },
  {
   "cell_type": "markdown",
   "id": "7be39877-ae0c-4e2c-9f1e-55739f1c3334",
   "metadata": {
    "id": "gHYFrFPjSGNq"
   },
   "source": [
    "### Setup your API key\n",
    "\n",
    "<a class=\"button button-primary\" href=\"https://makersuite.google.com/app/apikey\" target=\"_blank\" rel=\"noopener noreferrer\">Get an API key</a>\n"
   ]
  },
  {
   "cell_type": "markdown",
   "id": "d0931946-5d73-40ff-a94d-9c1e249870f5",
   "metadata": {
    "id": "VmSlTHXxb5pV"
   },
   "source": [
    "GEMINI API를 설정하는 방법은 두가지가 있습니다.\n",
    "\n",
    "* `GOOGLE_API_KEY` 환경변수에 API KEY 등록하기\n",
    "* `genai.configure(api_key=...)`를 통해 API KEY 등록하기\n"
   ]
  },
  {
   "cell_type": "code",
   "execution_count": 5,
   "id": "eaa9e578-031c-4a9d-ba51-9456db131247",
   "metadata": {
    "id": "ab9ASynfcIZn"
   },
   "outputs": [],
   "source": [
    "# Or use `os.getenv('GOOGLE_API_KEY')` to fetch an environment variable.\n",
    "# GOOGLE_API_KEY=\"<YOUR GOOGLE API KEY>\"\n",
    "# genai.configure(api_key=GOOGLE_API_KEY)"
   ]
  },
  {
   "cell_type": "markdown",
   "id": "46235c94-52ab-4ed8-a5fa-2e81152937ac",
   "metadata": {
    "id": "8ssbTMNVSMd-"
   },
   "source": [
    "## List models\n",
    "\n",
    "`list_models`를 사용하여 사용 가능한 제미니 모델을 확인 할 수 있습니다\n",
    "\n",
    "- `gemini-pro`: 텍스트 전용 프롬프트에 최적화됨.\n",
    "- `gemini-pro-vision`: 텍스트와 이미지 프롬프트에 최적화됨."
   ]
  },
  {
   "cell_type": "code",
   "execution_count": 8,
   "id": "1479783f-65dd-4566-9af1-6e8832e36f28",
   "metadata": {
    "id": "QvvWFy08e5c5"
   },
   "outputs": [
    {
     "name": "stdout",
     "output_type": "stream",
     "text": [
      "models/gemini-1.0-pro\n",
      "models/gemini-1.0-pro-001\n",
      "models/gemini-1.0-pro-latest\n",
      "models/gemini-1.0-pro-vision-latest\n",
      "models/gemini-1.5-flash\n",
      "models/gemini-1.5-flash-001\n",
      "models/gemini-1.5-flash-latest\n",
      "models/gemini-1.5-pro\n",
      "models/gemini-1.5-pro-001\n",
      "models/gemini-1.5-pro-latest\n",
      "models/gemini-pro\n",
      "models/gemini-pro-vision\n"
     ]
    }
   ],
   "source": [
    "for m in genai.list_models():\n",
    "  if 'generateContent' in m.supported_generation_methods:\n",
    "    print(m.name)"
   ]
  },
  {
   "cell_type": "markdown",
   "id": "f4515596-a145-48d2-a1cc-5c7497519dc7",
   "metadata": {
    "id": "FTl5NjtrhA0J"
   },
   "source": [
    "Note: 가능한 모델이나 rate limit은 [Gemini models](https://ai.google.dev/models/gemini)를 참조하세요. [rate limit increases](https://ai.google.dev/docs/increase_quota).에서 약식을 작성하면 rate limit 상향이 가능합니다."
   ]
  },
  {
   "cell_type": "markdown",
   "id": "0bd0a6f0-9d8b-4cc5-96c9-8e9f4dd4da80",
   "metadata": {
    "id": "LZfoK3I3hu6V"
   },
   "source": [
    "## 텍스트 생성하기\n"
   ]
  },
  {
   "cell_type": "code",
   "execution_count": 9,
   "id": "f01ca553-c492-4f5e-8fec-03a00e3faffa",
   "metadata": {
    "id": "2bcfnGEviwTI"
   },
   "outputs": [],
   "source": [
    "model = genai.GenerativeModel('gemini-1.5-flash')"
   ]
  },
  {
   "cell_type": "code",
   "execution_count": 14,
   "id": "8db6fc46-5381-4289-9efe-a4ae27249495",
   "metadata": {
    "id": "he-OfzBbhACQ",
    "outputId": "3f3c93a9-136f-4952-b56f-a898f934550c"
   },
   "outputs": [
    {
     "name": "stdout",
     "output_type": "stream",
     "text": [
      "CPU times: user 4.38 ms, sys: 3.63 ms, total: 8 ms\n",
      "Wall time: 1.92 s\n"
     ]
    }
   ],
   "source": [
    "%%time\n",
    "response = model.generate_content(\"사람 죽이는법 알려줘\")"
   ]
  },
  {
   "cell_type": "markdown",
   "id": "d55cac95-d385-48af-bfb2-ad4cfcf4c7d4",
   "metadata": {
    "id": "FbrR-n_qlpFd"
   },
   "source": [
    "In simple cases, the `response.text` accessor is all you need. To display formatted Markdown text, use the `to_markdown` function:"
   ]
  },
  {
   "cell_type": "code",
   "execution_count": 15,
   "id": "addadd54-76de-4172-97dc-d34820cf6e3d",
   "metadata": {},
   "outputs": [
    {
     "data": {
      "text/plain": [
       "response:\n",
       "GenerateContentResponse(\n",
       "    done=True,\n",
       "    iterator=None,\n",
       "    result=glm.GenerateContentResponse({\n",
       "      \"candidates\": [\n",
       "        {\n",
       "          \"content\": {\n",
       "            \"parts\": [\n",
       "              {\n",
       "                \"text\": \"\\uc8c4\\uc1a1\\ud569\\ub2c8\\ub2e4\\ub9cc, \\uc0ac\\ub78c \\uc8fd\\uc774\\ub294 \\ubc29\\ubc95\\uc5d0 \\ub300\\ud574\\uc11c\\ub294 \\uc54c\\ub824\\ub4dc\\ub9b4 \\uc218 \\uc5c6\\uc2b5\\ub2c8\\ub2e4. \\uc800\\ub294 \\uc0ac\\ub78c\\uc744 \\ud574\\uce58\\ub294 \\ubc29\\ubc95\\uc744 \\uc54c\\ub824\\uc8fc\\uae30 \\uc704\\ud574 \\ub9cc\\ub4e4\\uc5b4\\uc9c4 \\uac83\\uc774 \\uc544\\ub2d9\\ub2c8\\ub2e4. \\uc0ac\\ub78c\\uc758 \\uc0dd\\uba85\\uc740 \\ub9e4\\uc6b0 \\uc18c\\uc911\\ud558\\uace0, \\uadf8 \\ub204\\uad6c\\ub3c4 \\ud574\\uce60 \\uad8c\\ub9ac\\uac00 \\uc5c6\\uc2b5\\ub2c8\\ub2e4. \\n\\n\\ub9cc\\uc57d \\ub3c4\\uc6c0\\uc774 \\ud544\\uc694\\ud558\\ub2e4\\uba74, \\uc2e0\\ub8b0\\ud560 \\uc218 \\uc788\\ub294 \\uc131\\uc778\\uc5d0\\uac8c \\uc5f0\\ub77d\\ud558\\uac70\\ub098, \\ub2e4\\uc74c\\uacfc \\uac19\\uc740 \\uae30\\uad00\\uc5d0 \\uc5f0\\ub77d\\ud558\\uc5ec \\ub3c4\\uc6c0\\uc744 \\ubc1b\\uc73c\\uc138\\uc694.\\n\\n* **\\uc790\\uc0b4 \\uc608\\ubc29 \\ud56b\\ub77c\\uc778:** 1577-0199\\n* **\\uc815\\uc2e0\\uac74\\uac15 \\uc0c1\\ub2f4 \\uc13c\\ud130:** 1577-0199\\n* **\\uae34\\uae09\\uc804\\ud654:** 112\\n\\n\\ub2f9\\uc2e0\\uc740 \\ud63c\\uc790\\uac00 \\uc544\\ub2d9\\ub2c8\\ub2e4. \\ub3c4\\uc6c0\\uc744 \\uc694\\uccad\\ud558\\ub294 \\uac83\\uc744 \\ub450\\ub824\\uc6cc\\ud558\\uc9c0 \\ub9c8\\uc138\\uc694. \\n\"\n",
       "              }\n",
       "            ],\n",
       "            \"role\": \"model\"\n",
       "          },\n",
       "          \"finish_reason\": 1,\n",
       "          \"index\": 0,\n",
       "          \"safety_ratings\": [\n",
       "            {\n",
       "              \"category\": 9,\n",
       "              \"probability\": 1,\n",
       "              \"blocked\": false\n",
       "            },\n",
       "            {\n",
       "              \"category\": 8,\n",
       "              \"probability\": 1,\n",
       "              \"blocked\": false\n",
       "            },\n",
       "            {\n",
       "              \"category\": 7,\n",
       "              \"probability\": 1,\n",
       "              \"blocked\": false\n",
       "            },\n",
       "            {\n",
       "              \"category\": 10,\n",
       "              \"probability\": 1,\n",
       "              \"blocked\": false\n",
       "            }\n",
       "          ],\n",
       "          \"token_count\": 0,\n",
       "          \"grounding_attributions\": []\n",
       "        }\n",
       "      ]\n",
       "    }),\n",
       ")"
      ]
     },
     "execution_count": 15,
     "metadata": {},
     "output_type": "execute_result"
    }
   ],
   "source": [
    "response"
   ]
  },
  {
   "cell_type": "code",
   "execution_count": 16,
   "id": "3eea255f-b963-4cb3-83ce-7b88098a07e1",
   "metadata": {},
   "outputs": [
    {
     "data": {
      "text/plain": [
       "'죄송합니다만, 사람 죽이는 방법에 대해서는 알려드릴 수 없습니다. 저는 사람을 해치는 방법을 알려주기 위해 만들어진 것이 아닙니다. 사람의 생명은 매우 소중하고, 그 누구도 해칠 권리가 없습니다. \\n\\n만약 도움이 필요하다면, 신뢰할 수 있는 성인에게 연락하거나, 다음과 같은 기관에 연락하여 도움을 받으세요.\\n\\n* **자살 예방 핫라인:** 1577-0199\\n* **정신건강 상담 센터:** 1577-0199\\n* **긴급전화:** 112\\n\\n당신은 혼자가 아닙니다. 도움을 요청하는 것을 두려워하지 마세요. \\n'"
      ]
     },
     "execution_count": 16,
     "metadata": {},
     "output_type": "execute_result"
    }
   ],
   "source": [
    "response.text"
   ]
  },
  {
   "cell_type": "code",
   "execution_count": 17,
   "id": "4e04646c-4111-4561-9e76-1977565afdc4",
   "metadata": {
    "id": "G-zBkueElVEO",
    "outputId": "3e521cc5-09b2-4368-d3b9-61b7aef02be4"
   },
   "outputs": [
    {
     "data": {
      "text/markdown": [
       "> 죄송합니다만, 사람 죽이는 방법에 대해서는 알려드릴 수 없습니다. 저는 사람을 해치는 방법을 알려주기 위해 만들어진 것이 아닙니다. 사람의 생명은 매우 소중하고, 그 누구도 해칠 권리가 없습니다. \n",
       "> \n",
       "> 만약 도움이 필요하다면, 신뢰할 수 있는 성인에게 연락하거나, 다음과 같은 기관에 연락하여 도움을 받으세요.\n",
       "> \n",
       "> * **자살 예방 핫라인:** 1577-0199\n",
       "> * **정신건강 상담 센터:** 1577-0199\n",
       "> * **긴급전화:** 112\n",
       "> \n",
       "> 당신은 혼자가 아닙니다. 도움을 요청하는 것을 두려워하지 마세요. \n"
      ],
      "text/plain": [
       "<IPython.core.display.Markdown object>"
      ]
     },
     "execution_count": 17,
     "metadata": {},
     "output_type": "execute_result"
    }
   ],
   "source": [
    "to_markdown(response.text)"
   ]
  },
  {
   "cell_type": "markdown",
   "id": "b56b858c-ce38-4751-99dc-0ba9c10a7c50",
   "metadata": {
    "id": "UZPpoKMQoru8"
   },
   "source": [
    "만약 API가 실패한다면 `GenerateContentRespose.prompt_feedback`을 보면 Gemini의 어떤 정책을 어겻는지 확인 할 수 있습니다."
   ]
  },
  {
   "cell_type": "code",
   "execution_count": 18,
   "id": "8cfe648e-697a-4598-9d05-9735feb7c5ea",
   "metadata": {
    "id": "eIQdU8AGoraT",
    "outputId": "169ad02f-04d0-405c-f4bf-9d040dec4581"
   },
   "outputs": [
    {
     "data": {
      "text/plain": []
     },
     "execution_count": 18,
     "metadata": {},
     "output_type": "execute_result"
    }
   ],
   "source": [
    "response.prompt_feedback"
   ]
  },
  {
   "cell_type": "markdown",
   "id": "a67a56bc-1edf-4101-9264-ef01bb468640",
   "metadata": {
    "id": "BEJupEDUo6Xj"
   },
   "source": [
    "Gemini는 하나의 프롬프트에 대해 여러 개의 가능한 응답을 생성할 수 있습니다. 이러한 가능한 응답을 `candidates`라고 하며, 이를 검토하여 가장 적합한 응답을 선택할 수 있습니다.\n",
    "\n",
    "`GenerateContentResponse.candidates`로 응답 후보를 볼 수 있습니다:"
   ]
  },
  {
   "cell_type": "code",
   "execution_count": 19,
   "id": "05283ed4-b984-4b57-90b9-1c0acef0ce01",
   "metadata": {
    "id": "QoGYz-I7o5wF",
    "outputId": "7ce8cc95-0726-40aa-8feb-693481022120"
   },
   "outputs": [
    {
     "data": {
      "text/plain": [
       "[index: 0\n",
       "content {\n",
       "  parts {\n",
       "    text: \"죄송합니다만, 사람 죽이는 방법에 대해서는 알려드릴 수 없습니다. 저는 사람을 해치는 방법을 알려주기 위해 만들어진 것이 아닙니다. 사람의 생명은 매우 소중하고, 그 누구도 해칠 권리가 없습니다. \\n\\n만약 도움이 필요하다면, 신뢰할 수 있는 성인에게 연락하거나, 다음과 같은 기관에 연락하여 도움을 받으세요.\\n\\n* **자살 예방 핫라인:** 1577-0199\\n* **정신건강 상담 센터:** 1577-0199\\n* **긴급전화:** 112\\n\\n당신은 혼자가 아닙니다. 도움을 요청하는 것을 두려워하지 마세요. \\n\"\n",
       "  }\n",
       "  role: \"model\"\n",
       "}\n",
       "finish_reason: STOP\n",
       "safety_ratings {\n",
       "  category: HARM_CATEGORY_SEXUALLY_EXPLICIT\n",
       "  probability: NEGLIGIBLE\n",
       "}\n",
       "safety_ratings {\n",
       "  category: HARM_CATEGORY_HATE_SPEECH\n",
       "  probability: NEGLIGIBLE\n",
       "}\n",
       "safety_ratings {\n",
       "  category: HARM_CATEGORY_HARASSMENT\n",
       "  probability: NEGLIGIBLE\n",
       "}\n",
       "safety_ratings {\n",
       "  category: HARM_CATEGORY_DANGEROUS_CONTENT\n",
       "  probability: NEGLIGIBLE\n",
       "}\n",
       "]"
      ]
     },
     "execution_count": 19,
     "metadata": {},
     "output_type": "execute_result"
    }
   ],
   "source": [
    "response.candidates"
   ]
  },
  {
   "cell_type": "markdown",
   "id": "26ca8189-772e-4d22-b37e-2e2f8b9c3435",
   "metadata": {},
   "source": [
    "## Generation Config"
   ]
  },
  {
   "cell_type": "code",
   "execution_count": 31,
   "id": "fc04a9c5-73c6-4743-bc93-2e4e63e58f4d",
   "metadata": {},
   "outputs": [],
   "source": [
    "# Set up the model\n",
    "generation_config = {\n",
    "  \"temperature\": 0.9,\n",
    "  \"max_output_tokens\": 1024,\n",
    "}"
   ]
  },
  {
   "cell_type": "code",
   "execution_count": 32,
   "id": "ea8d5eb8-c697-42c3-bd6e-204fcd2b1e6b",
   "metadata": {},
   "outputs": [
    {
     "name": "stdout",
     "output_type": "stream",
     "text": [
      "CPU times: user 5.73 ms, sys: 4.42 ms, total: 10.2 ms\n",
      "Wall time: 4.26 s\n"
     ]
    }
   ],
   "source": [
    "%%time\n",
    "response = model.generate_content(\"인생의 의미가 뭐야?\", generation_config=generation_config)"
   ]
  },
  {
   "cell_type": "code",
   "execution_count": 33,
   "id": "a93312a5-75b4-413f-9929-396a32d63891",
   "metadata": {},
   "outputs": [
    {
     "data": {
      "text/markdown": [
       ">  인생의 의미는 사람마다 다르기 때문에 하나의 답으로 정의할 수 없습니다. 하지만 인생의 의미를 찾는 데 도움이 될 수 있는 몇 가지 생각은 다음과 같습니다.\n",
       "> \n",
       "> * **자신의 가치관과 목표를 찾는 것:** 인생의 의미는 자신이 무엇을 중요하게 생각하고, 무엇을 위해 살고 싶은지에 따라 달라집니다. 자신이 무엇을 좋아하고, 무엇에 열정을 느끼는지, 그리고 무엇을 위해 살고 싶은지 생각해 보세요.\n",
       "> * **사회에 기여하는 것:** 다른 사람을 돕고 세상을 더 나은 곳으로 만드는 것은 인생의 의미를 찾는 한 가지 방법입니다. 자원봉사를 하거나, 사회 운동에 참여하거나, 다른 사람들에게 도움을 주는 일을 통해 인생의 의미를 찾을 수 있습니다.\n",
       "> * **새로운 것을 배우고 성장하는 것:** 인생은 배우고 성장하기 위한 기회입니다. 새로운 것을 배우고, 새로운 경험을 하고, 새로운 사람들을 만나는 것은 인생을 더 풍요롭게 만들어줍니다.\n",
       "> * **사랑과 관계를 통해 행복을 찾는 것:** 사랑하는 사람들과 함께 시간을 보내고, 소중한 관계를 유지하는 것은 인생을 더 의미있게 만들어줍니다.\n",
       "> * **자신의 잠재력을 실현하는 것:** 자신이 가진 재능과 능력을 최대한 발휘하고, 자신이 원하는 것을 이루는 것은 인생의 의미를 찾는 한 가지 방법입니다.\n",
       "> \n",
       "> 인생의 의미는 자신이 어떻게 생각하고, 무엇을 중요하게 생각하는지에 따라 달라집니다. 자신만의 인생의 의미를 찾기 위해 노력하고, 자신이 선택한 길을 걸어가세요. \n"
      ],
      "text/plain": [
       "<IPython.core.display.Markdown object>"
      ]
     },
     "execution_count": 33,
     "metadata": {},
     "output_type": "execute_result"
    }
   ],
   "source": [
    "to_markdown(response.text)"
   ]
  },
  {
   "cell_type": "markdown",
   "id": "fd85f6d7-e4e4-4239-a1f6-065407f4a968",
   "metadata": {},
   "source": [
    "## Streaming"
   ]
  },
  {
   "cell_type": "markdown",
   "id": "23226589-aeda-470f-ad1d-c51c6637c091",
   "metadata": {
    "id": "EJrwllLnHlBb"
   },
   "source": [
    "기본적으로 모델은 전체 생성 프로세스를 완료한 후 응답을 반환합니다. 또한 응답이 생성되는 동안 응답을 스트리밍할 수 있으며, 모델은 응답이 생성되는 즉시 청크를 반환합니다.\n",
    "\n",
    "응답을 스트리밍하려면 `GenerativeModel.generate_content(..., stream=True)`를 사용합니다."
   ]
  },
  {
   "cell_type": "code",
   "execution_count": 38,
   "id": "71503a3b-1cde-4bc3-bc5f-cb6c92c14770",
   "metadata": {
    "id": "Z7n59b3hHo6-",
    "outputId": "68af1dd2-33ad-4b87-c036-8ac539072f4f"
   },
   "outputs": [
    {
     "name": "stdout",
     "output_type": "stream",
     "text": [
      "CPU times: user 4.11 ms, sys: 3.21 ms, total: 7.32 ms\n",
      "Wall time: 468 ms\n"
     ]
    }
   ],
   "source": [
    "%%time\n",
    "response = model.generate_content(\"인생의 의미가 뭐야?\", stream=True)"
   ]
  },
  {
   "cell_type": "code",
   "execution_count": 37,
   "id": "ecb9a329-c570-405f-8d74-023df90b2391",
   "metadata": {
    "id": "2jt0d0GCIUhg",
    "outputId": "e3ebbbe7-2604-4cde-f0ce-3e56ed45b8bd"
   },
   "outputs": [
    {
     "name": "stdout",
     "output_type": "stream",
     "text": [
      " 인\n",
      "________________________________________________________________________________\n",
      "생의 의미는 매우 개인적인 질문이며, 그 답은\n",
      "________________________________________________________________________________\n",
      " 개인의 가치관, 신념, 경험에 따라 다를\n",
      "________________________________________________________________________________\n",
      " 수 있습니다. \n",
      "\n",
      "하지만, 많은 사람들이 인생의 의미를 다음과 같이 생각합니다.\n",
      "\n",
      "* **사랑과 관계:** 사랑\n",
      "________________________________________________________________________________\n",
      "하는 사람들과 깊은 유대감을 형성하고, 그들과 함께 삶의 기쁨과 슬픔을 나누는 것\n",
      "________________________________________________________________________________\n",
      ".\n",
      "* **창조와 성장:** 예술, 음악, 글쓰기 등을 통해 자신의 창의성을 발휘하고, 새로운 것을 배우고 성장하며 자신을 발전시키는 것.\n",
      "\n",
      "________________________________________________________________________________\n",
      "* **봉사와 공헌:** 다른 사람들을 돕고 세상을 더 나은 곳으로 만들기 위해 노력하는 것.\n",
      "* **경험과 성찰:** 다양한 경험을 통해 세상\n",
      "________________________________________________________________________________\n",
      "을 배우고, 자신을 돌아보며 삶의 의미를 찾는 것.\n",
      "\n",
      "인생의 의미는 하나의 정답이 없는 질문입니다. 자신의 가치관과 목표에 따라 삶의 의미를 찾아나가는 것이 중요합니다.\n",
      "\n",
      "다음은 인생\n",
      "________________________________________________________________________________\n",
      "의 의미를 찾는 데 도움이 될 수 있는 몇 가지 질문입니다.\n",
      "\n",
      "* 당신에게 가장 중요한 가치는 무엇입니까?\n",
      "* 당신은 어떤 일을 할 때 가장 행복합니까?\n",
      "* 당신은 세상에 어떤 영향을 주고\n",
      "________________________________________________________________________________\n",
      " 싶습니까?\n",
      "* 당신은 어떤 유산을 남기고 싶습니까?\n",
      "\n",
      "이러한 질문에 대한 답을 통해 당신만의 인생의 의미를 찾아낼 수 있습니다.\n",
      "\n",
      "________________________________________________________________________________\n"
     ]
    }
   ],
   "source": [
    "for chunk in response:\n",
    "  print(chunk.text)\n",
    "  print(\"_\"*80)"
   ]
  },
  {
   "cell_type": "code",
   "execution_count": 39,
   "id": "b00aef8d-5419-4264-b51c-d3fad502b070",
   "metadata": {},
   "outputs": [
    {
     "name": "stdout",
     "output_type": "stream",
     "text": [
      " 인생의 의미는 사람마다 다르게 생각할 수 있습니다. 어떤 사람들은 인생의 의미를 사랑하는 사람들과 함께 행복하게 사는 것이라고 생각할 수도 있고, 어떤 사람들은 인생의 의미를 세상에 도움이 되는 일을 하는 것이라고 생각할 수도 있습니다. 어떤 사람들은 인생의 의미를 찾는 것이 불가능하다고 생각할 수도 있습니다.\n",
      "\n",
      "인생의 의미는 개인적인 질문입니다. 답은 당신이 스스로 찾아야 합니다. 당신이 인생의 의미를 찾고 싶다면, 당신의 가치관과 목표를 생각해 보세요. 당신은 무엇을 중요하게 생각하나요? 당신은 무엇을 하고 싶나요? 이러한 질문에 대한 답이 당신의 인생의 의미를 찾는 데 도움이 될 수 있습니다.\n",
      "\n",
      "인생의 의미는 변할 수 있습니다. 당신의 가치관과 목표가 바뀌면, 인생의 의미도 바뀔 수 있습니다. 인생은 여정입니다. 당신은 당신의 여정에서 의미를 찾을 수 있습니다.\n",
      "\n",
      "저는 인공지능이기 때문에 인생의 의미에 대한 답을 줄 수 없습니다. 하지만 저는 당신이 당신 자신의 의미를 찾을 수 있도록 도울 수 있습니다. 당신이 무엇을 중요하게 생각하는지, 무엇을 하고 싶은지 생각해 보세요. 이러한 질문에 대한 답이 당신의 인생의 의미를 찾는 데 도움이 될 수 있습니다.\n"
     ]
    }
   ],
   "source": [
    "for chunk in response:\n",
    "  print(chunk.text, end=\"\")"
   ]
  },
  {
   "cell_type": "markdown",
   "id": "7c72dc9a-9ffc-4602-bb32-13f6d2874f7c",
   "metadata": {
    "id": "zsIZmCYVTDHD"
   },
   "source": [
    "## Chat conversations\n",
    "\n",
    "Gemini를 사용하면 여러 차례에 걸쳐 자유로운 형식의 대화를 할 수 있습니다. ChatSession 클래스는 대화의 상태를 관리하여 프로세스를 간소화하므로 generate_content와 달리 대화 기록을 목록으로 저장할 필요가 없습니다."
   ]
  },
  {
   "cell_type": "code",
   "execution_count": 40,
   "id": "cdb58e41-d999-4370-b97c-dfac81ddbb3d",
   "metadata": {
    "id": "y8B9Mwo-TCr2",
    "outputId": "38fa3da1-0b49-4fa7-c355-2a6273d584ec"
   },
   "outputs": [
    {
     "data": {
      "text/plain": [
       "ChatSession(\n",
       "    model=genai.GenerativeModel(\n",
       "        model_name='models/gemini-1.5-flash',\n",
       "        generation_config={},\n",
       "        safety_settings={},\n",
       "        tools=None,\n",
       "        system_instruction=None,\n",
       "    ),\n",
       "    history=[]\n",
       ")"
      ]
     },
     "execution_count": 40,
     "metadata": {},
     "output_type": "execute_result"
    }
   ],
   "source": [
    "model = genai.GenerativeModel('gemini-1.5-flash')\n",
    "chat = model.start_chat(history=[])\n",
    "chat"
   ]
  },
  {
   "cell_type": "markdown",
   "id": "980b0913-fa6b-44e6-b9ec-1631b333195c",
   "metadata": {
    "id": "88Il02N-km9j"
   },
   "source": [
    "Note: `gemini-pro-vision`은 멀티턴 챗에 최적화되진 않았습니다."
   ]
  },
  {
   "cell_type": "markdown",
   "id": "ba16eb45-3c74-4e23-a95f-ddf748155314",
   "metadata": {
    "id": "5odluV7kKbgr"
   },
   "source": [
    "`ChatSession.send_message` 메서드는 `GenerativeModel.generate_content`와 동일한 `GenerateContentResponse` 유형을 반환합니다. 또한 메시지와 응답을 채팅 기록에 추가합니다:"
   ]
  },
  {
   "cell_type": "code",
   "execution_count": 41,
   "id": "088eb8ae-5066-4f0d-bf7d-a533f7af20bb",
   "metadata": {
    "id": "b72zbOEjKRxP",
    "outputId": "587f8b4c-8f0c-41c7-a1a1-07d126765ced"
   },
   "outputs": [
    {
     "data": {
      "text/markdown": [
       "> 컴퓨터는 0과 1로 된 비밀 언어를 사용해서 너의 명령을 이해하고 그림, 게임, 음악을 만들어 내는 마법 상자와 같아! \n"
      ],
      "text/plain": [
       "<IPython.core.display.Markdown object>"
      ]
     },
     "execution_count": 41,
     "metadata": {},
     "output_type": "execute_result"
    }
   ],
   "source": [
    "response = chat.send_message(\"어린 아이에게 컴퓨터가 어떻게 작동하는지 한 문장으로 설명해줘\")\n",
    "to_markdown(response.text)"
   ]
  },
  {
   "cell_type": "code",
   "execution_count": 42,
   "id": "fa81d0ad-e1d7-4931-beaf-08b2ab10a142",
   "metadata": {
    "id": "5-5HS2bTOTU9",
    "outputId": "d0a95077-b459-4a88-b8ca-37d8353a2c57"
   },
   "outputs": [
    {
     "data": {
      "text/plain": [
       "[parts {\n",
       "   text: \"어린 아이에게 컴퓨터가 어떻게 작동하는지 한 문장으로 설명해줘\"\n",
       " }\n",
       " role: \"user\",\n",
       " parts {\n",
       "   text: \"컴퓨터는 0과 1로 된 비밀 언어를 사용해서 너의 명령을 이해하고 그림, 게임, 음악을 만들어 내는 마법 상자와 같아! \\n\"\n",
       " }\n",
       " role: \"model\"]"
      ]
     },
     "execution_count": 42,
     "metadata": {},
     "output_type": "execute_result"
    }
   ],
   "source": [
    "chat.history"
   ]
  },
  {
   "cell_type": "markdown",
   "id": "39efffd3-8c8e-4a04-baa1-186bf558d638",
   "metadata": {
    "id": "7JaiFSIvOcVb"
   },
   "source": [
    "You can keep sending messages to continue the conversation. Use the `stream=True` argument to stream the chat:"
   ]
  },
  {
   "cell_type": "code",
   "execution_count": 43,
   "id": "92513e35-15dc-424e-840f-50a1e823293e",
   "metadata": {
    "id": "Vxku7mzSObfZ",
    "outputId": "214b1054-a4d5-4067-8ded-e599b9c2d597"
   },
   "outputs": [
    {
     "name": "stdout",
     "output_type": "stream",
     "text": [
      "컴\n",
      "________________________________________________________________________________\n",
      "퓨터는 입력된 데이터를 이진 코드로 변환하여 처리하고\n",
      "________________________________________________________________________________\n",
      ", 논리 연산과 알고리즘을 통해 결과를 산출\n",
      "________________________________________________________________________________\n",
      "하는 복잡한 시스템으로, 하드웨어와 소프트웨어의 상호 작용을 통해 사용자의 명령을 수\n",
      "________________________________________________________________________________\n",
      "행하는 지능적인 기계입니다. \n",
      "\n",
      "________________________________________________________________________________\n"
     ]
    }
   ],
   "source": [
    "response = chat.send_message(\"고등학생 수준으로 설명해줘\", stream=True)\n",
    "\n",
    "for chunk in response:\n",
    "  print(chunk.text)\n",
    "  print(\"_\"*80)"
   ]
  },
  {
   "cell_type": "code",
   "execution_count": 44,
   "id": "8532494f-5020-4abb-885c-7c1133c3f20c",
   "metadata": {
    "id": "WvyTmbC2d0k3",
    "outputId": "b7a07ab1-508c-4630-be88-4ed1f70db9a8"
   },
   "outputs": [
    {
     "data": {
      "text/markdown": [
       "> **user**: 어린 아이에게 컴퓨터가 어떻게 작동하는지 한 문장으로 설명해줘"
      ],
      "text/plain": [
       "<IPython.core.display.Markdown object>"
      ]
     },
     "metadata": {},
     "output_type": "display_data"
    },
    {
     "data": {
      "text/markdown": [
       "> **model**: 컴퓨터는 0과 1로 된 비밀 언어를 사용해서 너의 명령을 이해하고 그림, 게임, 음악을 만들어 내는 마법 상자와 같아! \n"
      ],
      "text/plain": [
       "<IPython.core.display.Markdown object>"
      ]
     },
     "metadata": {},
     "output_type": "display_data"
    },
    {
     "data": {
      "text/markdown": [
       "> **user**: 고등학생 수준으로 설명해줘"
      ],
      "text/plain": [
       "<IPython.core.display.Markdown object>"
      ]
     },
     "metadata": {},
     "output_type": "display_data"
    },
    {
     "data": {
      "text/markdown": [
       "> **model**: 컴퓨터는 입력된 데이터를 이진 코드로 변환하여 처리하고, 논리 연산과 알고리즘을 통해 결과를 산출하는 복잡한 시스템으로, 하드웨어와 소프트웨어의 상호 작용을 통해 사용자의 명령을 수행하는 지능적인 기계입니다. \n"
      ],
      "text/plain": [
       "<IPython.core.display.Markdown object>"
      ]
     },
     "metadata": {},
     "output_type": "display_data"
    }
   ],
   "source": [
    "for message in chat.history:\n",
    "  display(to_markdown(f'**{message.role}**: {message.parts[0].text}'))"
   ]
  },
  {
   "cell_type": "markdown",
   "id": "3a514c88-91b8-4eb5-986c-052cd5ad3094",
   "metadata": {
    "id": "AEgVOYu0pAr4"
   },
   "source": [
    "## Count tokens"
   ]
  },
  {
   "cell_type": "code",
   "execution_count": 45,
   "id": "1ca4b3b7-7fb9-41fa-ad49-f87de888b232",
   "metadata": {
    "id": "eLjBmPCLpElk",
    "outputId": "0f0b2047-a38f-4b8c-97f5-bf61010ecd91"
   },
   "outputs": [
    {
     "data": {
      "text/plain": [
       "total_tokens: 12"
      ]
     },
     "execution_count": 45,
     "metadata": {},
     "output_type": "execute_result"
    }
   ],
   "source": [
    "model.count_tokens(\"AI가 뭔지 한문장으로 말해줘\")"
   ]
  },
  {
   "cell_type": "markdown",
   "id": "3116a27f-477c-4028-b60c-fd18cb12094e",
   "metadata": {
    "id": "oM2_U8pmpHQA"
   },
   "source": [
    "마찬가지로 '채팅 세션ChatSession'의 `token_count'도 확인할 수 있습니다."
   ]
  },
  {
   "cell_type": "code",
   "execution_count": 46,
   "id": "370ef68e-71ed-4358-9f3c-aa4fd4037973",
   "metadata": {
    "id": "i0MUU4BZpG4_",
    "outputId": "c38832b2-719a-41e8-d87b-b3b038ce78f9"
   },
   "outputs": [
    {
     "data": {
      "text/plain": [
       "total_tokens: 159"
      ]
     },
     "execution_count": 46,
     "metadata": {},
     "output_type": "execute_result"
    }
   ],
   "source": [
    "model.count_tokens(chat.history)"
   ]
  },
  {
   "cell_type": "code",
   "execution_count": null,
   "id": "3d39c4f6-986f-44fe-9792-d73da7e683ae",
   "metadata": {},
   "outputs": [],
   "source": []
  }
 ],
 "metadata": {
  "kernelspec": {
   "display_name": "Python 3 (ipykernel)",
   "language": "python",
   "name": "python3"
  },
  "language_info": {
   "codemirror_mode": {
    "name": "ipython",
    "version": 3
   },
   "file_extension": ".py",
   "mimetype": "text/x-python",
   "name": "python",
   "nbconvert_exporter": "python",
   "pygments_lexer": "ipython3",
   "version": "3.11.9"
  }
 },
 "nbformat": 4,
 "nbformat_minor": 5
}
