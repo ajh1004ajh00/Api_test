{
 "cells": [
  {
   "cell_type": "markdown",
   "id": "8b66f275-b9aa-47bc-a3cf-00022d8075e2",
   "metadata": {},
   "source": [
    "# Claude API 사용법 알아보기"
   ]
  },
  {
   "cell_type": "code",
   "execution_count": 1,
   "id": "ff56c71a-aada-403c-9c25-43cd9d33614e",
   "metadata": {
    "scrolled": true
   },
   "outputs": [
    {
     "name": "stdout",
     "output_type": "stream",
     "text": [
      "Requirement already satisfied: anthropic in /Users/user/miniconda3/envs/fc-ai-signature/lib/python3.11/site-packages (0.28.0)\n",
      "Requirement already satisfied: anyio<5,>=3.5.0 in /Users/user/miniconda3/envs/fc-ai-signature/lib/python3.11/site-packages (from anthropic) (4.3.0)\n",
      "Requirement already satisfied: distro<2,>=1.7.0 in /Users/user/miniconda3/envs/fc-ai-signature/lib/python3.11/site-packages (from anthropic) (1.9.0)\n",
      "Requirement already satisfied: httpx<1,>=0.23.0 in /Users/user/miniconda3/envs/fc-ai-signature/lib/python3.11/site-packages (from anthropic) (0.27.0)\n",
      "Requirement already satisfied: jiter<1,>=0.4.0 in /Users/user/miniconda3/envs/fc-ai-signature/lib/python3.11/site-packages (from anthropic) (0.4.1)\n",
      "Requirement already satisfied: pydantic<3,>=1.9.0 in /Users/user/miniconda3/envs/fc-ai-signature/lib/python3.11/site-packages (from anthropic) (2.7.1)\n",
      "Requirement already satisfied: sniffio in /Users/user/miniconda3/envs/fc-ai-signature/lib/python3.11/site-packages (from anthropic) (1.3.1)\n",
      "Requirement already satisfied: tokenizers>=0.13.0 in /Users/user/miniconda3/envs/fc-ai-signature/lib/python3.11/site-packages (from anthropic) (0.19.1)\n",
      "Requirement already satisfied: typing-extensions<5,>=4.7 in /Users/user/miniconda3/envs/fc-ai-signature/lib/python3.11/site-packages (from anthropic) (4.12.0)\n",
      "Requirement already satisfied: idna>=2.8 in /Users/user/miniconda3/envs/fc-ai-signature/lib/python3.11/site-packages (from anyio<5,>=3.5.0->anthropic) (3.7)\n",
      "Requirement already satisfied: certifi in /Users/user/miniconda3/envs/fc-ai-signature/lib/python3.11/site-packages (from httpx<1,>=0.23.0->anthropic) (2024.2.2)\n",
      "Requirement already satisfied: httpcore==1.* in /Users/user/miniconda3/envs/fc-ai-signature/lib/python3.11/site-packages (from httpx<1,>=0.23.0->anthropic) (1.0.5)\n",
      "Requirement already satisfied: h11<0.15,>=0.13 in /Users/user/miniconda3/envs/fc-ai-signature/lib/python3.11/site-packages (from httpcore==1.*->httpx<1,>=0.23.0->anthropic) (0.14.0)\n",
      "Requirement already satisfied: annotated-types>=0.4.0 in /Users/user/miniconda3/envs/fc-ai-signature/lib/python3.11/site-packages (from pydantic<3,>=1.9.0->anthropic) (0.7.0)\n",
      "Requirement already satisfied: pydantic-core==2.18.2 in /Users/user/miniconda3/envs/fc-ai-signature/lib/python3.11/site-packages (from pydantic<3,>=1.9.0->anthropic) (2.18.2)\n",
      "Requirement already satisfied: huggingface-hub<1.0,>=0.16.4 in /Users/user/miniconda3/envs/fc-ai-signature/lib/python3.11/site-packages (from tokenizers>=0.13.0->anthropic) (0.23.3)\n",
      "Requirement already satisfied: filelock in /Users/user/miniconda3/envs/fc-ai-signature/lib/python3.11/site-packages (from huggingface-hub<1.0,>=0.16.4->tokenizers>=0.13.0->anthropic) (3.14.0)\n",
      "Requirement already satisfied: fsspec>=2023.5.0 in /Users/user/miniconda3/envs/fc-ai-signature/lib/python3.11/site-packages (from huggingface-hub<1.0,>=0.16.4->tokenizers>=0.13.0->anthropic) (2024.6.0)\n",
      "Requirement already satisfied: packaging>=20.9 in /Users/user/miniconda3/envs/fc-ai-signature/lib/python3.11/site-packages (from huggingface-hub<1.0,>=0.16.4->tokenizers>=0.13.0->anthropic) (24.0)\n",
      "Requirement already satisfied: pyyaml>=5.1 in /Users/user/miniconda3/envs/fc-ai-signature/lib/python3.11/site-packages (from huggingface-hub<1.0,>=0.16.4->tokenizers>=0.13.0->anthropic) (6.0.1)\n",
      "Requirement already satisfied: requests in /Users/user/miniconda3/envs/fc-ai-signature/lib/python3.11/site-packages (from huggingface-hub<1.0,>=0.16.4->tokenizers>=0.13.0->anthropic) (2.32.2)\n",
      "Requirement already satisfied: tqdm>=4.42.1 in /Users/user/miniconda3/envs/fc-ai-signature/lib/python3.11/site-packages (from huggingface-hub<1.0,>=0.16.4->tokenizers>=0.13.0->anthropic) (4.66.4)\n",
      "Requirement already satisfied: charset-normalizer<4,>=2 in /Users/user/miniconda3/envs/fc-ai-signature/lib/python3.11/site-packages (from requests->huggingface-hub<1.0,>=0.16.4->tokenizers>=0.13.0->anthropic) (3.3.2)\n",
      "Requirement already satisfied: urllib3<3,>=1.21.1 in /Users/user/miniconda3/envs/fc-ai-signature/lib/python3.11/site-packages (from requests->huggingface-hub<1.0,>=0.16.4->tokenizers>=0.13.0->anthropic) (2.2.1)\n"
     ]
    }
   ],
   "source": [
    "!pip install anthropic"
   ]
  },
  {
   "cell_type": "code",
   "execution_count": 2,
   "id": "3c5ae313-8e45-4597-80b5-ddd0dca533d4",
   "metadata": {},
   "outputs": [],
   "source": [
    "import anthropic"
   ]
  },
  {
   "cell_type": "markdown",
   "id": "7f7e3c7a-c638-4889-bf19-b03d44905fbc",
   "metadata": {},
   "source": [
    "Anthropic API Key 등록 방법\n",
    "- 환경변수로 등록\n",
    "  - linux, mac은 `.bashrc` 또는 `.zshrc`에 환경변수 설정\n",
    "    - `export ANTHROPIC_API_KEY=\"YOUR_API_KEY\"`\n",
    "  - window\n",
    "    - `setx ANTHROPIC_API_KEY YOUR_API_KEY\n",
    "- anthropic 인스턴스 생성시 직접 설정\n",
    "  - ```python\n",
    "    client = anthropic.Anthropic(api_key=\"YOUR_API_KEY\")\n",
    "    ```\n"
   ]
  },
  {
   "cell_type": "code",
   "execution_count": 3,
   "id": "9b516762-9697-4f20-aa0d-d3c06acaa305",
   "metadata": {},
   "outputs": [],
   "source": [
    "client = anthropic.Anthropic(\n",
    "    # api_key=\"YOUR_API_KEY\",\n",
    ")"
   ]
  },
  {
   "cell_type": "markdown",
   "id": "640029a6-f137-47cd-a9f6-ad7d44b21dd7",
   "metadata": {},
   "source": [
    "- model name: https://docs.anthropic.com/en/docs/models-overview"
   ]
  },
  {
   "cell_type": "code",
   "execution_count": 4,
   "id": "7aa49836-7652-4795-afab-b8abae862d15",
   "metadata": {},
   "outputs": [
    {
     "name": "stdout",
     "output_type": "stream",
     "text": [
      "[TextBlock(text='안녕하세요! 반갑습니다. 저는 인공지능 어시스턴트 Claude입니다. 어떤 도움이 필요하신가요? 대화를 나누는 것을 좋아하니 편하게 말씀해 주세요.', type='text')]\n"
     ]
    }
   ],
   "source": [
    "message = client.messages.create(\n",
    "    model=\"claude-3-opus-20240229\",\n",
    "    max_tokens=1000,\n",
    "    temperature=0,\n",
    "    messages=[\n",
    "        {\n",
    "            \"role\": \"user\",\n",
    "            \"content\": [\n",
    "                {\n",
    "                    \"type\": \"text\",\n",
    "                    \"text\": \"안녕\"\n",
    "                }\n",
    "            ]\n",
    "        }\n",
    "    ]\n",
    ")\n",
    "print(message.content)"
   ]
  },
  {
   "cell_type": "code",
   "execution_count": 5,
   "id": "a6eb8efb-298d-446d-b43f-fe4c18506350",
   "metadata": {},
   "outputs": [
    {
     "name": "stdout",
     "output_type": "stream",
     "text": [
      "안녕하세요! 반갑습니다. 저는 인공지능 어시스턴트 Claude입니다. 어떤 도움이 필요하신가요? 대화를 나누는 것을 좋아하니 편하게 말씀해 주세요.\n"
     ]
    }
   ],
   "source": [
    "print(message.content[0].text)"
   ]
  },
  {
   "cell_type": "markdown",
   "id": "f89e53e5-db9c-4385-95f2-a167522ea906",
   "metadata": {},
   "source": [
    "## Claude API를 활용한 ChatBot"
   ]
  },
  {
   "cell_type": "code",
   "execution_count": 6,
   "id": "38afaee3-ee7f-4f12-8179-10a3797b4d10",
   "metadata": {},
   "outputs": [
    {
     "name": "stdin",
     "output_type": "stream",
     "text": [
      "사용자:  안녕\n"
     ]
    },
    {
     "name": "stdout",
     "output_type": "stream",
     "text": [
      "Claude: 안녕하세요! 저희 커피숍에 오신 것을 환영합니다. 어떤 메뉴를 주문하시겠습니까?\n"
     ]
    },
    {
     "name": "stdin",
     "output_type": "stream",
     "text": [
      "사용자:  어떤 메뉴가 있어?\n"
     ]
    },
    {
     "name": "stdout",
     "output_type": "stream",
     "text": [
      "Claude: 네, 저희 커피숍에서는 다음과 같은 메뉴를 판매하고 있습니다.\n",
      "\n",
      "- 아메리카노\n",
      "  - 아이스 아메리카노\n",
      "  - 핫 아메리카노 (뜨거운)\n",
      "- 카페라떼  \n",
      "  - 아이스 카페라떼\n",
      "  - 핫 카페라떼 (뜨거운)\n",
      "- 카푸치노\n",
      "  - 아이스 카푸치노  \n",
      "  - 핫 카푸치노 (뜨거운)\n",
      "- 아이스티\n",
      "\n",
      "어떤 메뉴로 주문해 드릴까요?\n"
     ]
    },
    {
     "name": "stdin",
     "output_type": "stream",
     "text": [
      "사용자:  아이스 아메리카노 줘\n"
     ]
    },
    {
     "name": "stdout",
     "output_type": "stream",
     "text": [
      "Claude: 네, 아이스 아메리카노 한 잔 주문 도와드리겠습니다. \n",
      "사이즈는 어떻게 해드릴까요? 저희는 톨(Tall), 그란데(Grande), 벤티(Venti) 사이즈가 있습니다.\n"
     ]
    },
    {
     "name": "stdin",
     "output_type": "stream",
     "text": [
      "사용자:  exit\n"
     ]
    },
    {
     "name": "stdout",
     "output_type": "stream",
     "text": [
      "대화를 종료합니다. 안녕히 가세요!\n"
     ]
    }
   ],
   "source": [
    "system_prompt = \"\"\"\\\n",
    "너는 커피숍 직원이다.\n",
    "\n",
    "이 커피숍에서 판매하는 메뉴는 아래와 같다.\n",
    "\n",
    "- 아메리카노\n",
    "  - 아이스\n",
    "  - 핫, 뜨거운\n",
    "- 카페라떼\n",
    "  - 아이스\n",
    "  - 핫, 뜨거운\n",
    "- 카푸치노\n",
    "  - 아이스\n",
    "  - 핫, 뜨거운\n",
    "- 아이스티\n",
    "\"\"\"\n",
    "messages = []\n",
    "\n",
    "while True:\n",
    "    # 사용자 입력 받기\n",
    "    user_input = input(\"사용자: \")\n",
    "    \n",
    "    # '종료' 입력 시 대화 종료\n",
    "    if user_input.lower() in [\"종료\", \"exit\", \"quit\"]:\n",
    "        print(\"대화를 종료합니다. 안녕히 가세요!\")\n",
    "        break\n",
    "    \n",
    "    # 사용자 입력을 메시지 히스토리에 추가\n",
    "    messages.append({\n",
    "        \"role\": \"user\",\n",
    "        \"content\": [{\"type\": \"text\", \"text\": user_input}]  # list에 들어있음\n",
    "    })\n",
    "    \n",
    "    \n",
    "    # API 요청을 통해 응답 받기\n",
    "    response = client.messages.create(\n",
    "        model=\"claude-3-opus-20240229\",\n",
    "        messages=messages,\n",
    "        max_tokens=1000,\n",
    "        temperature=0,\n",
    "        system=system_prompt # Claude 는 system prompt가 role로 있지 않음!\n",
    "    )\n",
    "    \n",
    "    # API 응답에서 텍스트 추출\n",
    "    assistant_reply = response.content[0].text\n",
    "    \n",
    "    # 출력\n",
    "    print(f\"Claude: {assistant_reply}\")\n",
    "    \n",
    "    # 응답을 메시지 히스토리에 추가\n",
    "    messages.append({\n",
    "        \"role\": \"assistant\",\n",
    "        \"content\": [{\"type\": \"text\", \"text\": assistant_reply}]\n",
    "    })\n"
   ]
  },
  {
   "cell_type": "code",
   "execution_count": null,
   "id": "c00f6d4a-a930-48a6-af20-a7f38ab4e3d1",
   "metadata": {},
   "outputs": [],
   "source": []
  }
 ],
 "metadata": {
  "kernelspec": {
   "display_name": "Python 3 (ipykernel)",
   "language": "python",
   "name": "python3"
  },
  "language_info": {
   "codemirror_mode": {
    "name": "ipython",
    "version": 3
   },
   "file_extension": ".py",
   "mimetype": "text/x-python",
   "name": "python",
   "nbconvert_exporter": "python",
   "pygments_lexer": "ipython3",
   "version": "3.11.9"
  }
 },
 "nbformat": 4,
 "nbformat_minor": 5
}
