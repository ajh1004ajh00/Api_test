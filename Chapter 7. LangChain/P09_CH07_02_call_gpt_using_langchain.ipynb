{
 "cells": [
  {
   "attachments": {},
   "cell_type": "markdown",
   "id": "2ed4da4d",
   "metadata": {},
   "source": [
    "# LangChain으로 LLM 호출하기"
   ]
  },
  {
   "cell_type": "code",
   "execution_count": null,
   "id": "a05530b1",
   "metadata": {
    "scrolled": true
   },
   "outputs": [],
   "source": [
    "!pip install langchain langchain-openai langchain-google-genai langchain-anthropic"
   ]
  },
  {
   "cell_type": "code",
   "execution_count": 12,
   "id": "f7547871-4145-4b22-bf68-43ec2b7bd6a0",
   "metadata": {},
   "outputs": [],
   "source": [
    "from IPython.display import Markdown\n",
    "import textwrap\n",
    "\n",
    "# Helpers\n",
    "def to_markdown(text):\n",
    "  text = text.replace('•', '  *')\n",
    "  return Markdown(textwrap.indent(text, '> ', predicate=lambda _: True))"
   ]
  },
  {
   "cell_type": "markdown",
   "id": "612df6d5-7b8b-4892-b186-80f7d3e6e6d7",
   "metadata": {},
   "source": [
    "### OpenAI GPT"
   ]
  },
  {
   "cell_type": "code",
   "execution_count": 1,
   "id": "52e0f11f-3b4d-4ccf-900c-918b1715fb4e",
   "metadata": {},
   "outputs": [],
   "source": [
    "from langchain_openai import ChatOpenAI"
   ]
  },
  {
   "cell_type": "code",
   "execution_count": 14,
   "id": "2fe7d77a-eb23-4d67-9cf4-383ea2c1c679",
   "metadata": {},
   "outputs": [],
   "source": [
    "model = ChatOpenAI(model=\"gpt-4o\")"
   ]
  },
  {
   "cell_type": "code",
   "execution_count": 3,
   "id": "f0d5a3ef-3c3b-4e27-9f6b-bf35ea727793",
   "metadata": {},
   "outputs": [],
   "source": [
    "resp = model.invoke(\"안녕\")"
   ]
  },
  {
   "cell_type": "code",
   "execution_count": 4,
   "id": "95865a26-fc4b-4c58-a489-de648ca01d8f",
   "metadata": {},
   "outputs": [
    {
     "data": {
      "text/plain": [
       "AIMessage(content='안녕하세요! 어떻게 도와드릴까요?', response_metadata={'token_usage': {'completion_tokens': 10, 'prompt_tokens': 9, 'total_tokens': 19}, 'model_name': 'gpt-4o', 'system_fingerprint': 'fp_319be4768e', 'finish_reason': 'stop', 'logprobs': None}, id='run-acdac529-23e4-43db-886f-ce847d003efb-0', usage_metadata={'input_tokens': 9, 'output_tokens': 10, 'total_tokens': 19})"
      ]
     },
     "execution_count": 4,
     "metadata": {},
     "output_type": "execute_result"
    }
   ],
   "source": [
    "resp"
   ]
  },
  {
   "cell_type": "code",
   "execution_count": 5,
   "id": "765651d7-4dd6-4749-ae28-6031d19baf15",
   "metadata": {},
   "outputs": [
    {
     "data": {
      "text/plain": [
       "'안녕하세요! 어떻게 도와드릴까요?'"
      ]
     },
     "execution_count": 5,
     "metadata": {},
     "output_type": "execute_result"
    }
   ],
   "source": [
    "resp.content"
   ]
  },
  {
   "cell_type": "markdown",
   "id": "5d489fc0-4f36-4ae1-a572-3e71078d995e",
   "metadata": {},
   "source": [
    "### Google Gemini"
   ]
  },
  {
   "cell_type": "code",
   "execution_count": 6,
   "id": "a01a1cd5-8789-4c53-b0a9-029e0d2b701a",
   "metadata": {},
   "outputs": [],
   "source": [
    "from langchain_google_genai import ChatGoogleGenerativeAI"
   ]
  },
  {
   "cell_type": "code",
   "execution_count": 7,
   "id": "875c6023-3152-43b2-a3a3-255bbaf1b067",
   "metadata": {},
   "outputs": [
    {
     "name": "stdout",
     "output_type": "stream",
     "text": [
      "안녕하세요! 무엇을 도와드릴까요? \n",
      "\n"
     ]
    }
   ],
   "source": [
    "model = ChatGoogleGenerativeAI(model=\"gemini-1.5-pro\")\n",
    "resp = model.invoke(\"안녕\")\n",
    "print(resp.content)"
   ]
  },
  {
   "cell_type": "markdown",
   "id": "639230a0-93fe-4f61-af93-155027949c3c",
   "metadata": {},
   "source": [
    "### Anthropic Claude"
   ]
  },
  {
   "cell_type": "code",
   "execution_count": 8,
   "id": "5a15c57d-82b8-41c0-9250-d99d0e976567",
   "metadata": {},
   "outputs": [],
   "source": [
    "from langchain_anthropic import ChatAnthropic"
   ]
  },
  {
   "cell_type": "code",
   "execution_count": 9,
   "id": "5fc10b71-4c82-481c-9de4-7c9fb185a7a1",
   "metadata": {},
   "outputs": [
    {
     "name": "stdout",
     "output_type": "stream",
     "text": [
      "안녕하세요! 무엇을 도와드릴까요?\n"
     ]
    }
   ],
   "source": [
    "model = ChatAnthropic(model=\"claude-3-sonnet-20240229\")\n",
    "resp = model.invoke(\"안녕\")\n",
    "print(resp.content)"
   ]
  },
  {
   "cell_type": "code",
   "execution_count": 15,
   "id": "76aeae30-b2cf-4066-87ef-f5e6eb5f8500",
   "metadata": {},
   "outputs": [],
   "source": [
    "resp = model.invoke(\"html, js, tailwindcss로 loginform 만들어줘\")"
   ]
  },
  {
   "cell_type": "code",
   "execution_count": 16,
   "id": "4b1724fb-bf4b-4c61-916d-cd31885eb42f",
   "metadata": {},
   "outputs": [
    {
     "data": {
      "text/markdown": [
       "> 물론입니다! HTML, JavaScript 및 Tailwind CSS를 사용하여 간단한 로그인 폼을 만들어보겠습니다. 아래는 예제 코드입니다.\n",
       "> \n",
       "> ### 1. HTML 코드\n",
       "> ```html\n",
       "> <!DOCTYPE html>\n",
       "> <html lang=\"ko\">\n",
       "> <head>\n",
       ">     <meta charset=\"UTF-8\">\n",
       ">     <meta name=\"viewport\" content=\"width=device-width, initial-scale=1.0\">\n",
       ">     <title>로그인 폼</title>\n",
       ">     <link href=\"https://cdn.jsdelivr.net/npm/tailwindcss@2.2.19/dist/tailwind.min.css\" rel=\"stylesheet\">\n",
       "> </head>\n",
       "> <body class=\"bg-gray-100 flex items-center justify-center min-h-screen\">\n",
       "> \n",
       ">     <div class=\"bg-white p-8 rounded-lg shadow-lg w-full max-w-sm\">\n",
       ">         <h2 class=\"text-2xl font-bold mb-6 text-center\">로그인</h2>\n",
       ">         <form id=\"loginForm\">\n",
       ">             <div class=\"mb-4\">\n",
       ">                 <label for=\"email\" class=\"block text-gray-700\">이메일</label>\n",
       ">                 <input type=\"email\" id=\"email\" name=\"email\" class=\"w-full px-3 py-2 border border-gray-300 rounded-lg focus:outline-none focus:ring focus:ring-blue-200\" required>\n",
       ">             </div>\n",
       ">             <div class=\"mb-4\">\n",
       ">                 <label for=\"password\" class=\"block text-gray-700\">비밀번호</label>\n",
       ">                 <input type=\"password\" id=\"password\" name=\"password\" class=\"w-full px-3 py-2 border border-gray-300 rounded-lg focus:outline-none focus:ring focus:ring-blue-200\" required>\n",
       ">             </div>\n",
       ">             <button type=\"submit\" class=\"w-full bg-blue-500 text-white py-2 rounded-lg hover:bg-blue-600 transition duration-200\">로그인</button>\n",
       ">         </form>\n",
       ">     </div>\n",
       "> \n",
       ">     <script src=\"script.js\"></script>\n",
       "> </body>\n",
       "> </html>\n",
       "> ```\n",
       "> \n",
       "> ### 2. JavaScript 코드 (script.js)\n",
       "> ```javascript\n",
       "> document.getElementById('loginForm').addEventListener('submit', function(event) {\n",
       ">     event.preventDefault(); // 폼 제출 기본 동작 방지\n",
       "> \n",
       ">     const email = document.getElementById('email').value;\n",
       ">     const password = document.getElementById('password').value;\n",
       "> \n",
       ">     // 여기서 이메일과 비밀번호를 검증하고 로그인 로직을 처리할 수 있습니다.\n",
       ">     console.log('이메일:', email);\n",
       ">     console.log('비밀번호:', password);\n",
       "> \n",
       ">     // 예시: 이메일과 비밀번호가 \"admin@example.com\"과 \"password123\"인 경우 성공 메시지 표시\n",
       ">     if (email === 'admin@example.com' && password === 'password123') {\n",
       ">         alert('로그인 성공');\n",
       ">     } else {\n",
       ">         alert('로그인 실패');\n",
       ">     }\n",
       "> });\n",
       "> ```\n",
       "> \n",
       "> ### 3. Tailwind CSS를 위한 설정\n",
       "> Tailwind CSS를 사용하기 위해 `head` 태그 안에 Tailwind CSS CDN 링크를 추가했습니다:\n",
       "> ```html\n",
       "> <link href=\"https://cdn.jsdelivr.net/npm/tailwindcss@2.2.19/dist/tailwind.min.css\" rel=\"stylesheet\">\n",
       "> ```\n",
       "> \n",
       "> 이 예제는 이메일과 비밀번호를 입력받아 간단한 검증 후 로그인 성공 또는 실패 메시지를 표시하는 로그인 폼입니다. 실제 프로젝트에서는 서버와의 통신 및 보안 처리가 필요합니다."
      ],
      "text/plain": [
       "<IPython.core.display.Markdown object>"
      ]
     },
     "execution_count": 16,
     "metadata": {},
     "output_type": "execute_result"
    }
   ],
   "source": [
    "to_markdown(resp.content)"
   ]
  },
  {
   "cell_type": "code",
   "execution_count": null,
   "id": "7105e4de-051b-4c12-b167-7d5967f6e43c",
   "metadata": {},
   "outputs": [],
   "source": []
  }
 ],
 "metadata": {
  "kernelspec": {
   "display_name": "Python 3 (ipykernel)",
   "language": "python",
   "name": "python3"
  },
  "language_info": {
   "codemirror_mode": {
    "name": "ipython",
    "version": 3
   },
   "file_extension": ".py",
   "mimetype": "text/x-python",
   "name": "python",
   "nbconvert_exporter": "python",
   "pygments_lexer": "ipython3",
   "version": "3.11.9"
  }
 },
 "nbformat": 4,
 "nbformat_minor": 5
}
