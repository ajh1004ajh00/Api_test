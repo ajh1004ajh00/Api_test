{
 "cells": [
  {
   "cell_type": "markdown",
   "id": "f0c531f8-f17f-4eaf-8db5-29fdf376e5e3",
   "metadata": {},
   "source": [
    "# OpenAI ChatGPT API 사용 방법 알아보기"
   ]
  },
  {
   "cell_type": "code",
   "execution_count": 1,
   "id": "4178834d-8b0b-4ecc-9266-60463ec0634d",
   "metadata": {},
   "outputs": [],
   "source": [
    "import os"
   ]
  },
  {
   "cell_type": "code",
   "execution_count": 1,
   "id": "449544e9-ea0f-4e8b-b6d3-7b9772740a12",
   "metadata": {},
   "outputs": [
    {
     "name": "stdout",
     "output_type": "stream",
     "text": [
      "API 키가 성공적으로 불러와졌습니다.\n"
     ]
    }
   ],
   "source": [
    "from dotenv import load_dotenv\n",
    "import os\n",
    "\n",
    "# .env 파일 로드\n",
    "load_dotenv()\n",
    "\n",
    "# .env 파일에서 API 키 불러오기\n",
    "api_key = os.getenv(\"OPENAI_API_KEY\")\n",
    "\n",
    "if api_key is None:\n",
    "    raise ValueError(\"API 키가 설정되지 않았습니다. 환경 변수를 확인하세요.\")\n",
    "else:\n",
    "    print(\"API 키가 성공적으로 불러와졌습니다.\")"
   ]
  },
  {
   "cell_type": "markdown",
   "id": "4db743b8-714a-44dd-810b-c20e2603985b",
   "metadata": {},
   "source": [
    "## OpenAI Doc\n",
    "- https://platform.openai.com/docs"
   ]
  },
  {
   "cell_type": "markdown",
   "id": "df7730f1-77cb-44ee-b3a4-1d28760c01e2",
   "metadata": {},
   "source": [
    "## curl로 호출해보기"
   ]
  },
  {
   "cell_type": "code",
   "execution_count": 5,
   "id": "12b4581b-a0ba-493e-aea1-2253bfc3c3aa",
   "metadata": {},
   "outputs": [
    {
     "name": "stdout",
     "output_type": "stream",
     "text": [
      "#!/usr/bin/env bash\n",
      "\n",
      "\n",
      "curl https://api.openai.com/v1/chat/completions \\\n",
      "  -H \"Content-Type: application/json\" \\\n",
      "  -H \"Authorization: Bearer $OPENAI_API_KEY\" \\\n",
      "  -d '{\n",
      "    \"model\": \"gpt-3.5-turbo\",\n",
      "    \"messages\": [\n",
      "      {\n",
      "        \"role\": \"system\",\n",
      "        \"content\": \"너는 감정분류를 수행한다. user의 텍스트의 감정이 긍정이면 positive, 부정적이면 negative를 출력한다.\"\n",
      "      },\n",
      "      {\n",
      "        \"role\": \"user\",\n",
      "        \"content\": \"이 영화 너무 재미있다.\"\n",
      "      }\n",
      "    ]\n",
      "  }'\n",
      "\n"
     ]
    }
   ],
   "source": [
    "with open('./call_chat_completion.sh', 'r') as file:\n",
    "    content = file.read()\n",
    "\n",
    "# 파일 내용 출력\n",
    "print(content)"
   ]
  },
  {
   "cell_type": "code",
   "execution_count": 4,
   "id": "173c462e-29a0-4533-864b-1e8169588c5a",
   "metadata": {},
   "outputs": [
    {
     "name": "stderr",
     "output_type": "stream",
     "text": [
      "'chmod'��(��) ���� �Ǵ� �ܺ� ����, ������ �� �ִ� ���α׷�, �Ǵ�\n",
      "��ġ ������ �ƴմϴ�.\n"
     ]
    }
   ],
   "source": [
    "!chmod +x ./call_chat_completion.sh"
   ]
  },
  {
   "cell_type": "code",
   "execution_count": 5,
   "id": "96a08f4c-7e4f-4490-91fd-04a04c52be43",
   "metadata": {},
   "outputs": [
    {
     "name": "stderr",
     "output_type": "stream",
     "text": [
      "'.'��(��) ���� �Ǵ� �ܺ� ����, ������ �� �ִ� ���α׷�, �Ǵ�\n",
      "��ġ ������ �ƴմϴ�.\n"
     ]
    }
   ],
   "source": [
    "!./call_chat_completion.sh"
   ]
  },
  {
   "cell_type": "markdown",
   "id": "7f1f3a04-53a5-4445-b2be-4da8142bd186",
   "metadata": {},
   "source": [
    "## Python SDK 활용"
   ]
  },
  {
   "cell_type": "code",
   "execution_count": 6,
   "id": "9da774aa-3d66-49c0-89f3-7e61ff7734ad",
   "metadata": {
    "scrolled": true
   },
   "outputs": [
    {
     "name": "stdout",
     "output_type": "stream",
     "text": [
      "Requirement already satisfied: openai in c:\\users\\ajhaj\\anaconda3\\envs\\link_dl\\lib\\site-packages (1.51.2)\n",
      "Requirement already satisfied: anyio<5,>=3.5.0 in c:\\users\\ajhaj\\anaconda3\\envs\\link_dl\\lib\\site-packages (from openai) (4.6.0)\n",
      "Requirement already satisfied: distro<2,>=1.7.0 in c:\\users\\ajhaj\\anaconda3\\envs\\link_dl\\lib\\site-packages (from openai) (1.9.0)\n",
      "Requirement already satisfied: httpx<1,>=0.23.0 in c:\\users\\ajhaj\\anaconda3\\envs\\link_dl\\lib\\site-packages (from openai) (0.27.2)\n",
      "Requirement already satisfied: jiter<1,>=0.4.0 in c:\\users\\ajhaj\\anaconda3\\envs\\link_dl\\lib\\site-packages (from openai) (0.6.1)\n",
      "Requirement already satisfied: pydantic<3,>=1.9.0 in c:\\users\\ajhaj\\anaconda3\\envs\\link_dl\\lib\\site-packages (from openai) (2.9.2)\n",
      "Requirement already satisfied: sniffio in c:\\users\\ajhaj\\anaconda3\\envs\\link_dl\\lib\\site-packages (from openai) (1.3.1)\n",
      "Requirement already satisfied: tqdm>4 in c:\\users\\ajhaj\\anaconda3\\envs\\link_dl\\lib\\site-packages (from openai) (4.66.5)\n",
      "Requirement already satisfied: typing-extensions<5,>=4.11 in c:\\users\\ajhaj\\anaconda3\\envs\\link_dl\\lib\\site-packages (from openai) (4.12.2)\n",
      "Requirement already satisfied: idna>=2.8 in c:\\users\\ajhaj\\anaconda3\\envs\\link_dl\\lib\\site-packages (from anyio<5,>=3.5.0->openai) (3.10)\n",
      "Requirement already satisfied: exceptiongroup>=1.0.2 in c:\\users\\ajhaj\\anaconda3\\envs\\link_dl\\lib\\site-packages (from anyio<5,>=3.5.0->openai) (1.2.2)\n",
      "Requirement already satisfied: certifi in c:\\users\\ajhaj\\anaconda3\\envs\\link_dl\\lib\\site-packages (from httpx<1,>=0.23.0->openai) (2024.8.30)\n",
      "Requirement already satisfied: httpcore==1.* in c:\\users\\ajhaj\\anaconda3\\envs\\link_dl\\lib\\site-packages (from httpx<1,>=0.23.0->openai) (1.0.6)\n",
      "Requirement already satisfied: h11<0.15,>=0.13 in c:\\users\\ajhaj\\anaconda3\\envs\\link_dl\\lib\\site-packages (from httpcore==1.*->httpx<1,>=0.23.0->openai) (0.14.0)\n",
      "Requirement already satisfied: annotated-types>=0.6.0 in c:\\users\\ajhaj\\anaconda3\\envs\\link_dl\\lib\\site-packages (from pydantic<3,>=1.9.0->openai) (0.7.0)\n",
      "Requirement already satisfied: pydantic-core==2.23.4 in c:\\users\\ajhaj\\anaconda3\\envs\\link_dl\\lib\\site-packages (from pydantic<3,>=1.9.0->openai) (2.23.4)\n",
      "Requirement already satisfied: colorama in c:\\users\\ajhaj\\anaconda3\\envs\\link_dl\\lib\\site-packages (from tqdm>4->openai) (0.4.6)\n",
      "Note: you may need to restart the kernel to use updated packages.\n"
     ]
    }
   ],
   "source": [
    "%pip install openai"
   ]
  },
  {
   "cell_type": "code",
   "execution_count": 7,
   "id": "a4e329c7-35bd-4fa9-a4d6-33136872dafe",
   "metadata": {},
   "outputs": [],
   "source": [
    "from openai import OpenAI"
   ]
  },
  {
   "cell_type": "code",
   "execution_count": 8,
   "id": "c7b2dc4e-7157-49a5-bbb3-3439f4e4953c",
   "metadata": {},
   "outputs": [],
   "source": [
    "client = OpenAI()"
   ]
  },
  {
   "cell_type": "code",
   "execution_count": 9,
   "id": "c05e5725-310f-4e67-a769-723ac8a574cb",
   "metadata": {},
   "outputs": [],
   "source": [
    "# 기본적인 사용법\n",
    "completion = client.chat.completions.create(\n",
    "  model=\"gpt-4o\", # gpt-4-turbo, gpt-4-turbo-2024-04-09, gpt-3.5-turbo, etc...\n",
    "  messages=[\n",
    "    {\"role\": \"system\", \"content\": \"너는 도움이 되는 AI어시스턴트이다.\"},\n",
    "    {\"role\": \"user\", \"content\": \"햄버거 만드는법 알려줘\"}\n",
    "  ]\n",
    ")"
   ]
  },
  {
   "cell_type": "markdown",
   "id": "0635c76d-e058-447a-915b-2dfcabb5e412",
   "metadata": {},
   "source": [
    "더 많은 모델들: https://platform.openai.com/docs/models"
   ]
  },
  {
   "cell_type": "code",
   "execution_count": 10,
   "id": "81d9d1ff-9e5f-441b-86b0-9acc45c903c6",
   "metadata": {},
   "outputs": [
    {
     "data": {
      "text/plain": [
       "ChatCompletion(id='chatcmpl-AGqZbdbppyiIHkqsaq7776oEmcmmV', choices=[Choice(finish_reason='stop', index=0, logprobs=None, message=ChatCompletionMessage(content='햄버거를 만드는 것은 꽤 간단하고 재미있는 과정입니다. 집에서도 맛있고 신선한 햄버거를 만들 수 있습니다. 기본적인 햄버거 레시피를 소개해드릴게요.\\n\\n### 재료:\\n- 소고기 다짐육 450g (약 80% 살코기, 20% 지방이 이상적임)\\n- 소금과 후추\\n- 햄버거 번 4개\\n- 치즈(옵션, 체다 또는 선호하는 종류)\\n- 양상추, 토마토 슬라이스, 양파 슬라이스 등 (토핑용)\\n- 케첩, 마요네즈, 머스타드 등 (선호하는 소스)\\n- 버터 또는 식용유\\n\\n### 방법:\\n\\n1. **패티 만들기:**\\n   - 큰 그릇에 다짐육을 넣고 소금과 후추로 간을 합니다. 다른 향신료나 첨가물을 넣고 싶다면 이때 추가하세요.\\n   - 고기를 4등분하여 패티 모양으로 둥글고 평평하게 만듭니다. 요리 중 수축을 방지하기 위해 중앙이 살짝 들어가도록 만드세요.\\n\\n2. **굽는 준비:**\\n   - 그릴이나 팬을 중간 높은 온도로 예열합니다. 팬에 식용유나 버터를 약간 두릅니다.\\n\\n3. **패티 굽기:**\\n   - 패티를 예열된 팬이나 그릴에 올려 한 면당 약 3-4분씩 굽습니다. 기호에 따라 더 오래하거나 덜 구울 수 있습니다.\\n   - 치즈를 넣고 싶다면, 두 번째 면을 굽는 동안 패티 위에 슬라이스 치즈를 올려 녹을 수 있도록 합니다.\\n\\n4. **번 준비:**\\n   - 번을 반으로 잘라 팬에 살짝 구워 따뜻하고 바삭한 식감을 줍니다.\\n\\n5. **조립:**\\n   - 하단 번에 양상추, 패티, 토마토 슬라이스, 양파 등을 순서대로 올립니다.\\n   - 소스를 취향에 맞게 뿌립니다.\\n   - 상단 번으로 덮어서 완성합니다.\\n\\n따뜻할 때 바로 서빙하세요. 감자 튀김이나 샐러드와 함께 곁들이면 더욱 맛있습니다. 즐거운 식사되세요!', refusal=None, role='assistant', function_call=None, tool_calls=None))], created=1728578703, model='gpt-4o-2024-08-06', object='chat.completion', service_tier=None, system_fingerprint='fp_e5e4913e83', usage=CompletionUsage(completion_tokens=532, prompt_tokens=31, total_tokens=563, completion_tokens_details=CompletionTokensDetails(audio_tokens=None, reasoning_tokens=0), prompt_tokens_details=PromptTokensDetails(audio_tokens=None, cached_tokens=0)))"
      ]
     },
     "execution_count": 10,
     "metadata": {},
     "output_type": "execute_result"
    }
   ],
   "source": [
    "completion"
   ]
  },
  {
   "cell_type": "code",
   "execution_count": 11,
   "id": "b2ac6c33-3328-49a3-a9e2-18dfddb69b2c",
   "metadata": {},
   "outputs": [
    {
     "name": "stdout",
     "output_type": "stream",
     "text": [
      "햄버거를 만드는 것은 꽤 간단하고 재미있는 과정입니다. 집에서도 맛있고 신선한 햄버거를 만들 수 있습니다. 기본적인 햄버거 레시피를 소개해드릴게요.\n",
      "\n",
      "### 재료:\n",
      "- 소고기 다짐육 450g (약 80% 살코기, 20% 지방이 이상적임)\n",
      "- 소금과 후추\n",
      "- 햄버거 번 4개\n",
      "- 치즈(옵션, 체다 또는 선호하는 종류)\n",
      "- 양상추, 토마토 슬라이스, 양파 슬라이스 등 (토핑용)\n",
      "- 케첩, 마요네즈, 머스타드 등 (선호하는 소스)\n",
      "- 버터 또는 식용유\n",
      "\n",
      "### 방법:\n",
      "\n",
      "1. **패티 만들기:**\n",
      "   - 큰 그릇에 다짐육을 넣고 소금과 후추로 간을 합니다. 다른 향신료나 첨가물을 넣고 싶다면 이때 추가하세요.\n",
      "   - 고기를 4등분하여 패티 모양으로 둥글고 평평하게 만듭니다. 요리 중 수축을 방지하기 위해 중앙이 살짝 들어가도록 만드세요.\n",
      "\n",
      "2. **굽는 준비:**\n",
      "   - 그릴이나 팬을 중간 높은 온도로 예열합니다. 팬에 식용유나 버터를 약간 두릅니다.\n",
      "\n",
      "3. **패티 굽기:**\n",
      "   - 패티를 예열된 팬이나 그릴에 올려 한 면당 약 3-4분씩 굽습니다. 기호에 따라 더 오래하거나 덜 구울 수 있습니다.\n",
      "   - 치즈를 넣고 싶다면, 두 번째 면을 굽는 동안 패티 위에 슬라이스 치즈를 올려 녹을 수 있도록 합니다.\n",
      "\n",
      "4. **번 준비:**\n",
      "   - 번을 반으로 잘라 팬에 살짝 구워 따뜻하고 바삭한 식감을 줍니다.\n",
      "\n",
      "5. **조립:**\n",
      "   - 하단 번에 양상추, 패티, 토마토 슬라이스, 양파 등을 순서대로 올립니다.\n",
      "   - 소스를 취향에 맞게 뿌립니다.\n",
      "   - 상단 번으로 덮어서 완성합니다.\n",
      "\n",
      "따뜻할 때 바로 서빙하세요. 감자 튀김이나 샐러드와 함께 곁들이면 더욱 맛있습니다. 즐거운 식사되세요!\n"
     ]
    }
   ],
   "source": [
    "print(completion.choices[0].message.content)"
   ]
  },
  {
   "cell_type": "markdown",
   "id": "37e25567-aa87-41f1-bbd7-987831068fc3",
   "metadata": {},
   "source": [
    "## 가장 간단한 챗봇 만들기"
   ]
  },
  {
   "cell_type": "code",
   "execution_count": 12,
   "id": "d7a548fd-0757-48c0-b095-f6ae79ccda73",
   "metadata": {},
   "outputs": [],
   "source": [
    "system_instruction = \"\"\"\n",
    "너는 햄버거 가게 AI비서야\n",
    "\n",
    "아래는 햄버거 종류야. 아래 종류의 버거 말고는 다른 버거는 없어\n",
    "\n",
    "- 빅맥\n",
    "- 쿼터파운더\n",
    "- 치즈버거\n",
    "\n",
    "위의 메뉴 말고는 없다고 생각하면돼\n",
    "\n",
    "응답을 할 때는 존댓말로 한다.\n",
    "\"\"\""
   ]
  },
  {
   "cell_type": "code",
   "execution_count": 13,
   "id": "6fb0cf3b-8dd8-418f-984f-aab32d4de5f0",
   "metadata": {},
   "outputs": [],
   "source": [
    "messages = [{\"role\": \"system\", \"content\": system_instruction}]\n",
    "\n",
    "def ask(text):\n",
    "    user_input = {\"role\": \"user\", \"content\": text}\n",
    "    messages.append(user_input)\n",
    "\n",
    "    response = client.chat.completions.create(\n",
    "        model=\"gpt-3.5-turbo\",\n",
    "        messages=messages)\n",
    "\n",
    "    bot_text = response.choices[0].message.content\n",
    "    bot_resp = {\"role\": \"assistant\", \"content\": bot_text}\n",
    "    messages.append(bot_resp)\n",
    "    return bot_text"
   ]
  },
  {
   "cell_type": "code",
   "execution_count": 14,
   "id": "ff066664-c930-412c-918b-dfaee561e2f0",
   "metadata": {},
   "outputs": [
    {
     "name": "stdout",
     "output_type": "stream",
     "text": [
      "bot: 죄송하지만, 제가 서비스하는 햄버거 종류는 빅맥, 쿼터파운더, 치즈버거뿐이에요. 그 외의 햄버거 만드는 방법은 알려드릴 수 없어요. 원하시는 햄버거가 있으면 그에 대한 정보를 제공해드릴게요. 어떤 것을 주문하시겠어요?\n",
      "bot: 좋은 하루 보내세요! 필요하신 게 있으시면 언제든지 물어보세요.\n",
      "bot: 안녕하세요! 햄버거를 주문하실 건가요? 필요하신 정보가 있으시면 언제든지 물어봐주세요.\n",
      "bot: 언제든지 도와드릴 일이 있으면 말씀해주세요. 즐거운 하루 되세요!\n",
      "bot: 죄송하지만, 제가 서비스하는 햄버거 종류는 빅맥, 쿼터파운더, 치즈버거뿐이에요. 다른 햄버거에 대한 정보는 제공해드릴 수 없어요. 원하시는 햄버거가 있으면 그에 대한 정보를 제공해드릴게요. 어떤 것을 주문하시겠어요?\n",
      "bot: 빅맥은 빵 사이에 패티, 양상추, 양파, 피클, 치즈, 특별한 빅맥 소스가 들어간 버거에요. 맛있게 즐기시길 바래요! 또 다른 도움이 필요하시면 언제든지 물어보세요.\n",
      "bot: 이해했습니다. 편안한 휴식을 취하시고 싶으시군요. 햄버거를 주문하고 싶거나 다른 도움이 필요하신 경우 다시 말씀해주세요. 즐거운 시간 보내세요!\n",
      "bot: 언제든지 도와드릴 일이 있으면 말씀해주세요. 행복한 하루 되세요!\n",
      "bot: 언제든지 돌아와 주세요. 즐거운 시간 보내세요!\n"
     ]
    },
    {
     "ename": "KeyboardInterrupt",
     "evalue": "Interrupted by user",
     "output_type": "error",
     "traceback": [
      "\u001b[1;31m---------------------------------------------------------------------------\u001b[0m",
      "\u001b[1;31mKeyboardInterrupt\u001b[0m                         Traceback (most recent call last)",
      "Cell \u001b[1;32mIn[14], line 2\u001b[0m\n\u001b[0;32m      1\u001b[0m \u001b[38;5;28;01mwhile\u001b[39;00m \u001b[38;5;28;01mTrue\u001b[39;00m:\n\u001b[1;32m----> 2\u001b[0m     user_input \u001b[38;5;241m=\u001b[39m \u001b[38;5;28;43minput\u001b[39;49m\u001b[43m(\u001b[49m\u001b[38;5;124;43m\"\u001b[39;49m\u001b[38;5;124;43muser: \u001b[39;49m\u001b[38;5;124;43m\"\u001b[39;49m\u001b[43m)\u001b[49m\n\u001b[0;32m      3\u001b[0m     bot_resp \u001b[38;5;241m=\u001b[39m ask(user_input)\n\u001b[0;32m      4\u001b[0m     \u001b[38;5;28mprint\u001b[39m(\u001b[38;5;124mf\u001b[39m\u001b[38;5;124m\"\u001b[39m\u001b[38;5;124mbot: \u001b[39m\u001b[38;5;132;01m{\u001b[39;00mbot_resp\u001b[38;5;132;01m}\u001b[39;00m\u001b[38;5;124m\"\u001b[39m)\n",
      "File \u001b[1;32mc:\\Users\\ajhaj\\anaconda3\\envs\\link_dl\\lib\\site-packages\\ipykernel\\kernelbase.py:1282\u001b[0m, in \u001b[0;36mKernel.raw_input\u001b[1;34m(self, prompt)\u001b[0m\n\u001b[0;32m   1280\u001b[0m     msg \u001b[38;5;241m=\u001b[39m \u001b[38;5;124m\"\u001b[39m\u001b[38;5;124mraw_input was called, but this frontend does not support input requests.\u001b[39m\u001b[38;5;124m\"\u001b[39m\n\u001b[0;32m   1281\u001b[0m     \u001b[38;5;28;01mraise\u001b[39;00m StdinNotImplementedError(msg)\n\u001b[1;32m-> 1282\u001b[0m \u001b[38;5;28;01mreturn\u001b[39;00m \u001b[38;5;28;43mself\u001b[39;49m\u001b[38;5;241;43m.\u001b[39;49m\u001b[43m_input_request\u001b[49m\u001b[43m(\u001b[49m\n\u001b[0;32m   1283\u001b[0m \u001b[43m    \u001b[49m\u001b[38;5;28;43mstr\u001b[39;49m\u001b[43m(\u001b[49m\u001b[43mprompt\u001b[49m\u001b[43m)\u001b[49m\u001b[43m,\u001b[49m\n\u001b[0;32m   1284\u001b[0m \u001b[43m    \u001b[49m\u001b[38;5;28;43mself\u001b[39;49m\u001b[38;5;241;43m.\u001b[39;49m\u001b[43m_parent_ident\u001b[49m\u001b[43m[\u001b[49m\u001b[38;5;124;43m\"\u001b[39;49m\u001b[38;5;124;43mshell\u001b[39;49m\u001b[38;5;124;43m\"\u001b[39;49m\u001b[43m]\u001b[49m\u001b[43m,\u001b[49m\n\u001b[0;32m   1285\u001b[0m \u001b[43m    \u001b[49m\u001b[38;5;28;43mself\u001b[39;49m\u001b[38;5;241;43m.\u001b[39;49m\u001b[43mget_parent\u001b[49m\u001b[43m(\u001b[49m\u001b[38;5;124;43m\"\u001b[39;49m\u001b[38;5;124;43mshell\u001b[39;49m\u001b[38;5;124;43m\"\u001b[39;49m\u001b[43m)\u001b[49m\u001b[43m,\u001b[49m\n\u001b[0;32m   1286\u001b[0m \u001b[43m    \u001b[49m\u001b[43mpassword\u001b[49m\u001b[38;5;241;43m=\u001b[39;49m\u001b[38;5;28;43;01mFalse\u001b[39;49;00m\u001b[43m,\u001b[49m\n\u001b[0;32m   1287\u001b[0m \u001b[43m\u001b[49m\u001b[43m)\u001b[49m\n",
      "File \u001b[1;32mc:\\Users\\ajhaj\\anaconda3\\envs\\link_dl\\lib\\site-packages\\ipykernel\\kernelbase.py:1325\u001b[0m, in \u001b[0;36mKernel._input_request\u001b[1;34m(self, prompt, ident, parent, password)\u001b[0m\n\u001b[0;32m   1322\u001b[0m \u001b[38;5;28;01mexcept\u001b[39;00m \u001b[38;5;167;01mKeyboardInterrupt\u001b[39;00m:\n\u001b[0;32m   1323\u001b[0m     \u001b[38;5;66;03m# re-raise KeyboardInterrupt, to truncate traceback\u001b[39;00m\n\u001b[0;32m   1324\u001b[0m     msg \u001b[38;5;241m=\u001b[39m \u001b[38;5;124m\"\u001b[39m\u001b[38;5;124mInterrupted by user\u001b[39m\u001b[38;5;124m\"\u001b[39m\n\u001b[1;32m-> 1325\u001b[0m     \u001b[38;5;28;01mraise\u001b[39;00m \u001b[38;5;167;01mKeyboardInterrupt\u001b[39;00m(msg) \u001b[38;5;28;01mfrom\u001b[39;00m \u001b[38;5;28;01mNone\u001b[39;00m\n\u001b[0;32m   1326\u001b[0m \u001b[38;5;28;01mexcept\u001b[39;00m \u001b[38;5;167;01mException\u001b[39;00m:\n\u001b[0;32m   1327\u001b[0m     \u001b[38;5;28mself\u001b[39m\u001b[38;5;241m.\u001b[39mlog\u001b[38;5;241m.\u001b[39mwarning(\u001b[38;5;124m\"\u001b[39m\u001b[38;5;124mInvalid Message:\u001b[39m\u001b[38;5;124m\"\u001b[39m, exc_info\u001b[38;5;241m=\u001b[39m\u001b[38;5;28;01mTrue\u001b[39;00m)\n",
      "\u001b[1;31mKeyboardInterrupt\u001b[0m: Interrupted by user"
     ]
    }
   ],
   "source": [
    "while True:\n",
    "    user_input = input(\"user: \")\n",
    "    bot_resp = ask(user_input)\n",
    "    print(f\"bot: {bot_resp}\")"
   ]
  }
 ],
 "metadata": {
  "kernelspec": {
   "display_name": "link_dl",
   "language": "python",
   "name": "python3"
  },
  "language_info": {
   "codemirror_mode": {
    "name": "ipython",
    "version": 3
   },
   "file_extension": ".py",
   "mimetype": "text/x-python",
   "name": "python",
   "nbconvert_exporter": "python",
   "pygments_lexer": "ipython3",
   "version": "3.10.14"
  }
 },
 "nbformat": 4,
 "nbformat_minor": 5
}
