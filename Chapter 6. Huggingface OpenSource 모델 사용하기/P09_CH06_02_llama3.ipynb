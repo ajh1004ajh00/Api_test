{
 "cells": [
  {
   "cell_type": "markdown",
   "id": "387904dd-118f-4589-a6d6-89dfd8ce5a23",
   "metadata": {},
   "source": [
    "# LLaMA 사용하기"
   ]
  },
  {
   "cell_type": "code",
   "execution_count": null,
   "id": "b28be3f0-28cb-4f27-8c06-b83e325a6e29",
   "metadata": {
    "scrolled": true
   },
   "outputs": [],
   "source": [
    "!pip install transformers accelerate"
   ]
  },
  {
   "cell_type": "markdown",
   "id": "9a425c0f-02a7-4140-af91-b0ccc0bc2b4d",
   "metadata": {},
   "source": [
    "- pytorch의 설치 방법은 pytorch 공식 홈페이지를 참고\n",
    "  - https://pytorch.org/"
   ]
  },
  {
   "cell_type": "code",
   "execution_count": null,
   "id": "ef484ee4-8a9d-488d-ba1e-912bc2c619f2",
   "metadata": {
    "scrolled": true
   },
   "outputs": [],
   "source": [
    "!conda install -y pytorch::pytorch -c pytorch"
   ]
  },
  {
   "cell_type": "code",
   "execution_count": 1,
   "id": "c60c573c-ff8c-4875-85d6-2b37d1a690a6",
   "metadata": {},
   "outputs": [
    {
     "data": {
      "application/vnd.jupyter.widget-view+json": {
       "model_id": "0aebf693697b406fa9eb93dd7d381149",
       "version_major": 2,
       "version_minor": 0
      },
      "text/plain": [
       "VBox(children=(HTML(value='<center> <img\\nsrc=https://huggingface.co/front/assets/huggingface_logo-noborder.sv…"
      ]
     },
     "metadata": {},
     "output_type": "display_data"
    }
   ],
   "source": [
    "from huggingface_hub import notebook_login\n",
    "notebook_login()"
   ]
  },
  {
   "cell_type": "code",
   "execution_count": 2,
   "id": "08d6858c-8dcc-4cc9-8c1e-b3e0155e51e5",
   "metadata": {},
   "outputs": [],
   "source": [
    "import transformers\n",
    "import torch\n",
    "\n",
    "# https://huggingface.co/meta-llama/Meta-Llama-3-8B\n",
    "# 16GB이상의 VRAM 필요\n",
    "model_id = \"meta-llama/Meta-Llama-3-8B-Instruct\"\n",
    "# model_id= \"TinyLlama/TinyLlama-1.1B-Chat-v1.0\""
   ]
  },
  {
   "cell_type": "code",
   "execution_count": 3,
   "id": "859175a6-41bb-47c9-90ca-af108b4d9bba",
   "metadata": {},
   "outputs": [
    {
     "data": {
      "application/vnd.jupyter.widget-view+json": {
       "model_id": "4b9512b2723042cf95180b19a69433c9",
       "version_major": 2,
       "version_minor": 0
      },
      "text/plain": [
       "Loading checkpoint shards:   0%|          | 0/4 [00:00<?, ?it/s]"
      ]
     },
     "metadata": {},
     "output_type": "display_data"
    },
    {
     "name": "stderr",
     "output_type": "stream",
     "text": [
      "Special tokens have been added in the vocabulary, make sure the associated word embeddings are fine-tuned or trained.\n"
     ]
    }
   ],
   "source": [
    "pipeline = transformers.pipeline(\n",
    "    \"text-generation\",\n",
    "    model=model_id,\n",
    "    model_kwargs={\"torch_dtype\": torch.bfloat16},\n",
    "    # device_map=\"auto\", # NVIDIA GPU가 있을 경우 CUDA를 사용하도록 세팅됨\n",
    "    device_map=\"mps\", # M시리즈(M1, M1 pro, M2, M3 등) mac인 경우 manual하게 mps로 세팅\n",
    ")"
   ]
  },
  {
   "cell_type": "code",
   "execution_count": null,
   "id": "e24b3aaf-30d9-4092-8f67-0f53a22eb072",
   "metadata": {},
   "outputs": [],
   "source": [
    "pipeline.torch_dtype"
   ]
  },
  {
   "cell_type": "markdown",
   "id": "5feeb426-bf8e-481c-9c84-7996c23adcea",
   "metadata": {},
   "source": [
    "Llama3의 prompt format\n",
    "- https://llama.meta.com/docs/model-cards-and-prompt-formats/meta-llama-3/"
   ]
  },
  {
   "cell_type": "code",
   "execution_count": 4,
   "id": "40cc5352-c322-40ce-930b-a7c02fca5495",
   "metadata": {},
   "outputs": [],
   "source": [
    "messages = [\n",
    "    {\"role\": \"system\", \"content\": \"너는 도움이 되는 어시스턴트이다.\"},\n",
    "    {\"role\": \"user\", \"content\": \"안녕이 영어로 뭐야?\"},\n",
    "]\n",
    "\n",
    "terminators = [\n",
    "    pipeline.tokenizer.eos_token_id,\n",
    "    pipeline.tokenizer.convert_tokens_to_ids(\"<|eot_id|>\")\n",
    "]"
   ]
  },
  {
   "cell_type": "code",
   "execution_count": 5,
   "id": "7ded2577-bce5-445b-b104-476adc356c69",
   "metadata": {},
   "outputs": [
    {
     "name": "stderr",
     "output_type": "stream",
     "text": [
      "Setting `pad_token_id` to `eos_token_id`:128009 for open-end generation.\n"
     ]
    },
    {
     "name": "stdout",
     "output_type": "stream",
     "text": [
      "CPU times: user 2.58 s, sys: 832 ms, total: 3.41 s\n",
      "Wall time: 6.1 s\n"
     ]
    }
   ],
   "source": [
    "%%time\n",
    "outputs = pipeline(\n",
    "    messages,\n",
    "    max_new_tokens=24,\n",
    "    eos_token_id=terminators,\n",
    "    do_sample=True,\n",
    "    temperature=0.6,\n",
    "    top_p=0.9,\n",
    ")"
   ]
  },
  {
   "cell_type": "code",
   "execution_count": 6,
   "id": "289e010f-2817-4555-9aeb-7bb3c85b114b",
   "metadata": {},
   "outputs": [
    {
     "name": "stdout",
     "output_type": "stream",
     "text": [
      "{'role': 'assistant', 'content': '😊\\n\\n\"안녕\" is translated to \"Hello\" in English. However, it\\'s worth noting that \"'}\n"
     ]
    }
   ],
   "source": [
    "print(outputs[0][\"generated_text\"][-1])"
   ]
  },
  {
   "cell_type": "code",
   "execution_count": 7,
   "id": "543a5162-1489-45a5-beb6-f965f48ff58d",
   "metadata": {},
   "outputs": [
    {
     "data": {
      "text/plain": [
       "[{'generated_text': [{'role': 'system', 'content': '너는 도움이 되는 어시스턴트이다.'},\n",
       "   {'role': 'user', 'content': '안녕이 영어로 뭐야?'},\n",
       "   {'role': 'assistant',\n",
       "    'content': '😊\\n\\n\"안녕\" is translated to \"Hello\" in English. However, it\\'s worth noting that \"'}]}]"
      ]
     },
     "execution_count": 7,
     "metadata": {},
     "output_type": "execute_result"
    }
   ],
   "source": [
    "outputs"
   ]
  },
  {
   "cell_type": "markdown",
   "id": "38b64325-7b9d-4ed7-b6f0-93287207e1fb",
   "metadata": {},
   "source": [
    "## 참고\n",
    "\n",
    "GPU를 장착한 Linux 머신이 있다면 더 빠른 추론을 위해 `vllm`이라고 하는 LLM 서빙 엔진을 사용 할 수 있다.\n",
    "- vllm\n",
    "  - https://github.com/vllm-project/vllm"
   ]
  },
  {
   "cell_type": "code",
   "execution_count": null,
   "id": "a47788f1-d4b3-4b6f-8848-661948bb35f1",
   "metadata": {},
   "outputs": [],
   "source": []
  }
 ],
 "metadata": {
  "kernelspec": {
   "display_name": "Python 3 (ipykernel)",
   "language": "python",
   "name": "python3"
  },
  "language_info": {
   "codemirror_mode": {
    "name": "ipython",
    "version": 3
   },
   "file_extension": ".py",
   "mimetype": "text/x-python",
   "name": "python",
   "nbconvert_exporter": "python",
   "pygments_lexer": "ipython3",
   "version": "3.11.9"
  }
 },
 "nbformat": 4,
 "nbformat_minor": 5
}
